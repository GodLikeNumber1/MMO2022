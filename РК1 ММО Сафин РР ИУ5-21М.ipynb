{
  "nbformat": 4,
  "nbformat_minor": 0,
  "metadata": {
    "colab": {
      "name": "Untitled1.ipynb",
      "provenance": []
    },
    "kernelspec": {
      "name": "python3",
      "display_name": "Python 3"
    },
    "language_info": {
      "name": "python"
    }
  },
  "cells": [
    {
      "cell_type": "markdown",
      "source": [
        "**РК1 ММО**"
      ],
      "metadata": {
        "id": "ebGx6mdjJPZc"
      }
    },
    {
      "cell_type": "markdown",
      "source": [
        "Студент: Сафин Рустам Равильевич\n",
        "\n",
        "Группа: ИУ5-21М\n",
        "\n",
        "Вариант в группе: 12\n",
        "\n",
        "Вариант задачи №1 (Задание 12): Для набора данных проведите нормализацию для одного (произвольного) числового признака с использованием функции \"логарифм - np.log(X)\".\n",
        "\n",
        "Вариант задачи №2 (Задание 32): Для набора данных проведите процедуру отбора признаков (feature selection). Используйте метод обертывания (wrapper method), обратный алгоритм (sequential backward selection).\n",
        "\n",
        "Дополнительное задание по группам: Для пары произвольных колонок данных построить график \"Диаграмма рассеяния\"."
      ],
      "metadata": {
        "id": "jOxLFmPfJWax"
      }
    },
    {
      "cell_type": "code",
      "source": [
        "import numpy as np\n",
        "import pandas as pd\n",
        "import seaborn as sns\n",
        "import scipy.stats as stats\n",
        "import matplotlib.pyplot as plt\n",
        "from sklearn.datasets import load_wine\n",
        "from sklearn.svm import LinearSVC\n",
        "from sklearn.feature_selection import SelectFromModel\n",
        "from sklearn.linear_model import LogisticRegression\n",
        "%matplotlib inline \n",
        "sns.set(style=\"ticks\")"
      ],
      "metadata": {
        "id": "6vGxwSGNKcj2"
      },
      "execution_count": null,
      "outputs": []
    },
    {
      "cell_type": "markdown",
      "source": [
        "**Задача №1 (№12)**"
      ],
      "metadata": {
        "id": "beai12rRKVg_"
      }
    },
    {
      "cell_type": "markdown",
      "source": [
        "Для набора данных проведите нормализацию для одного (произвольного) числового признака с использованием функции \"логарифм - np.log(X)\"."
      ],
      "metadata": {
        "id": "GSvySD_9KpXx"
      }
    },
    {
      "cell_type": "code",
      "source": [
        "def diagnostic_plots(df, variable):\n",
        "    plt.figure(figsize=(15,6))\n",
        "    plt.subplot(1, 2, 1)\n",
        "    df[variable].hist(bins=30)\n",
        "    plt.subplot(1, 2, 2)\n",
        "    stats.probplot(df[variable], dist=\"norm\", plot=plt)\n",
        "    plt.show()"
      ],
      "metadata": {
        "id": "gENsV76LJUFY"
      },
      "execution_count": 2,
      "outputs": []
    },
    {
      "cell_type": "code",
      "source": [
        "data = pd.read_csv(\"/content/data/LeagueofLegends.csv\", sep=\",\")"
      ],
      "metadata": {
        "id": "eBzdbemLKxOr"
      },
      "execution_count": 3,
      "outputs": []
    },
    {
      "cell_type": "code",
      "source": [
        "data.head()"
      ],
      "metadata": {
        "colab": {
          "base_uri": "https://localhost:8080/",
          "height": 698
        },
        "id": "WEMOvL-MK2LF",
        "outputId": "2116f0de-e1f8-4115-eec9-c40486667177"
      },
      "execution_count": 4,
      "outputs": [
        {
          "output_type": "execute_result",
          "data": {
            "text/plain": [
              "  League  Year  Season    Type blueTeamTag  bResult  rResult redTeamTag  \\\n",
              "0  NALCS  2015  Spring  Season         TSM        1        0         C9   \n",
              "1  NALCS  2015  Spring  Season         CST        0        1        DIG   \n",
              "2  NALCS  2015  Spring  Season         WFX        1        0         GV   \n",
              "3  NALCS  2015  Spring  Season         TIP        0        1         TL   \n",
              "4  NALCS  2015  Spring  Season         CLG        1        0         T8   \n",
              "\n",
              "   gamelength                                           golddiff  ...  \\\n",
              "0          40  [0, 0, -14, -65, -268, -431, -488, -789, -494,...  ...   \n",
              "1          38  [0, 0, -26, -18, 147, 237, -152, 18, 88, -242,...  ...   \n",
              "2          40  [0, 0, 10, -60, 34, 37, 589, 1064, 1258, 913, ...  ...   \n",
              "3          41  [0, 0, -15, 25, 228, -6, -243, 175, -346, 16, ...  ...   \n",
              "4          35  [40, 40, 44, -36, 113, 158, -121, -191, 23, 20...  ...   \n",
              "\n",
              "  redMiddleChamp                                      goldredMiddle  \\\n",
              "0           Fizz  [475, 475, 552, 842, 1178, 1378, 1635, 1949, 2...   \n",
              "1           Azir  [475, 475, 552, 786, 1097, 1389, 1660, 1955, 2...   \n",
              "2           Azir  [475, 475, 533, 801, 1006, 1233, 1385, 1720, 1...   \n",
              "3           Lulu  [475, 475, 532, 771, 1046, 1288, 1534, 1776, 2...   \n",
              "4           Lulu  [475, 475, 532, 807, 1042, 1338, 1646, 1951, 2...   \n",
              "\n",
              "         redADC redADCChamp  \\\n",
              "0        Sneaky       Sivir   \n",
              "1        CoreJJ       Corki   \n",
              "2           Cop       Corki   \n",
              "3         KEITH      KogMaw   \n",
              "4  Maplestreet8       Corki   \n",
              "\n",
              "                                          goldredADC   redSupport  \\\n",
              "0  [475, 475, 532, 762, 1097, 1469, 1726, 2112, 2...  LemonNation   \n",
              "1  [475, 475, 532, 868, 1220, 1445, 1732, 1979, 2...      KiWiKiD   \n",
              "2  [475, 475, 533, 781, 1085, 1398, 1782, 1957, 2...   BunnyFuFuu   \n",
              "3  [475, 475, 532, 766, 1161, 1438, 1776, 1936, 2...      Xpecial   \n",
              "4  [475, 475, 532, 792, 1187, 1488, 1832, 2136, 2...        Dodo8   \n",
              "\n",
              "  redSupportChamp                                     goldredSupport  \\\n",
              "0          Thresh  [515, 515, 577, 722, 911, 1042, 1194, 1370, 14...   \n",
              "1           Annie  [515, 515, 583, 752, 900, 1066, 1236, 1417, 15...   \n",
              "2           Janna  [515, 515, 584, 721, 858, 1002, 1168, 1303, 14...   \n",
              "3           Janna  [515, 515, 583, 721, 870, 1059, 1205, 1342, 15...   \n",
              "4           Annie  [475, 475, 538, 671, 817, 948, 1104, 1240, 136...   \n",
              "\n",
              "                              redBans  \\\n",
              "0  ['Tristana', 'Leblanc', 'Nidalee']   \n",
              "1      ['RekSai', 'Janna', 'Leblanc']   \n",
              "2        ['Leblanc', 'Zed', 'RekSai']   \n",
              "3      ['RekSai', 'Rumble', 'LeeSin']   \n",
              "4       ['Rumble', 'Sivir', 'Rengar']   \n",
              "\n",
              "                                             Address  \n",
              "0  http://matchhistory.na.leagueoflegends.com/en/...  \n",
              "1  http://matchhistory.na.leagueoflegends.com/en/...  \n",
              "2  http://matchhistory.na.leagueoflegends.com/en/...  \n",
              "3  http://matchhistory.na.leagueoflegends.com/en/...  \n",
              "4  http://matchhistory.na.leagueoflegends.com/en/...  \n",
              "\n",
              "[5 rows x 57 columns]"
            ],
            "text/html": [
              "\n",
              "  <div id=\"df-c7185a9f-fdd9-4d08-8537-b255d7ad52fe\">\n",
              "    <div class=\"colab-df-container\">\n",
              "      <div>\n",
              "<style scoped>\n",
              "    .dataframe tbody tr th:only-of-type {\n",
              "        vertical-align: middle;\n",
              "    }\n",
              "\n",
              "    .dataframe tbody tr th {\n",
              "        vertical-align: top;\n",
              "    }\n",
              "\n",
              "    .dataframe thead th {\n",
              "        text-align: right;\n",
              "    }\n",
              "</style>\n",
              "<table border=\"1\" class=\"dataframe\">\n",
              "  <thead>\n",
              "    <tr style=\"text-align: right;\">\n",
              "      <th></th>\n",
              "      <th>League</th>\n",
              "      <th>Year</th>\n",
              "      <th>Season</th>\n",
              "      <th>Type</th>\n",
              "      <th>blueTeamTag</th>\n",
              "      <th>bResult</th>\n",
              "      <th>rResult</th>\n",
              "      <th>redTeamTag</th>\n",
              "      <th>gamelength</th>\n",
              "      <th>golddiff</th>\n",
              "      <th>...</th>\n",
              "      <th>redMiddleChamp</th>\n",
              "      <th>goldredMiddle</th>\n",
              "      <th>redADC</th>\n",
              "      <th>redADCChamp</th>\n",
              "      <th>goldredADC</th>\n",
              "      <th>redSupport</th>\n",
              "      <th>redSupportChamp</th>\n",
              "      <th>goldredSupport</th>\n",
              "      <th>redBans</th>\n",
              "      <th>Address</th>\n",
              "    </tr>\n",
              "  </thead>\n",
              "  <tbody>\n",
              "    <tr>\n",
              "      <th>0</th>\n",
              "      <td>NALCS</td>\n",
              "      <td>2015</td>\n",
              "      <td>Spring</td>\n",
              "      <td>Season</td>\n",
              "      <td>TSM</td>\n",
              "      <td>1</td>\n",
              "      <td>0</td>\n",
              "      <td>C9</td>\n",
              "      <td>40</td>\n",
              "      <td>[0, 0, -14, -65, -268, -431, -488, -789, -494,...</td>\n",
              "      <td>...</td>\n",
              "      <td>Fizz</td>\n",
              "      <td>[475, 475, 552, 842, 1178, 1378, 1635, 1949, 2...</td>\n",
              "      <td>Sneaky</td>\n",
              "      <td>Sivir</td>\n",
              "      <td>[475, 475, 532, 762, 1097, 1469, 1726, 2112, 2...</td>\n",
              "      <td>LemonNation</td>\n",
              "      <td>Thresh</td>\n",
              "      <td>[515, 515, 577, 722, 911, 1042, 1194, 1370, 14...</td>\n",
              "      <td>['Tristana', 'Leblanc', 'Nidalee']</td>\n",
              "      <td>http://matchhistory.na.leagueoflegends.com/en/...</td>\n",
              "    </tr>\n",
              "    <tr>\n",
              "      <th>1</th>\n",
              "      <td>NALCS</td>\n",
              "      <td>2015</td>\n",
              "      <td>Spring</td>\n",
              "      <td>Season</td>\n",
              "      <td>CST</td>\n",
              "      <td>0</td>\n",
              "      <td>1</td>\n",
              "      <td>DIG</td>\n",
              "      <td>38</td>\n",
              "      <td>[0, 0, -26, -18, 147, 237, -152, 18, 88, -242,...</td>\n",
              "      <td>...</td>\n",
              "      <td>Azir</td>\n",
              "      <td>[475, 475, 552, 786, 1097, 1389, 1660, 1955, 2...</td>\n",
              "      <td>CoreJJ</td>\n",
              "      <td>Corki</td>\n",
              "      <td>[475, 475, 532, 868, 1220, 1445, 1732, 1979, 2...</td>\n",
              "      <td>KiWiKiD</td>\n",
              "      <td>Annie</td>\n",
              "      <td>[515, 515, 583, 752, 900, 1066, 1236, 1417, 15...</td>\n",
              "      <td>['RekSai', 'Janna', 'Leblanc']</td>\n",
              "      <td>http://matchhistory.na.leagueoflegends.com/en/...</td>\n",
              "    </tr>\n",
              "    <tr>\n",
              "      <th>2</th>\n",
              "      <td>NALCS</td>\n",
              "      <td>2015</td>\n",
              "      <td>Spring</td>\n",
              "      <td>Season</td>\n",
              "      <td>WFX</td>\n",
              "      <td>1</td>\n",
              "      <td>0</td>\n",
              "      <td>GV</td>\n",
              "      <td>40</td>\n",
              "      <td>[0, 0, 10, -60, 34, 37, 589, 1064, 1258, 913, ...</td>\n",
              "      <td>...</td>\n",
              "      <td>Azir</td>\n",
              "      <td>[475, 475, 533, 801, 1006, 1233, 1385, 1720, 1...</td>\n",
              "      <td>Cop</td>\n",
              "      <td>Corki</td>\n",
              "      <td>[475, 475, 533, 781, 1085, 1398, 1782, 1957, 2...</td>\n",
              "      <td>BunnyFuFuu</td>\n",
              "      <td>Janna</td>\n",
              "      <td>[515, 515, 584, 721, 858, 1002, 1168, 1303, 14...</td>\n",
              "      <td>['Leblanc', 'Zed', 'RekSai']</td>\n",
              "      <td>http://matchhistory.na.leagueoflegends.com/en/...</td>\n",
              "    </tr>\n",
              "    <tr>\n",
              "      <th>3</th>\n",
              "      <td>NALCS</td>\n",
              "      <td>2015</td>\n",
              "      <td>Spring</td>\n",
              "      <td>Season</td>\n",
              "      <td>TIP</td>\n",
              "      <td>0</td>\n",
              "      <td>1</td>\n",
              "      <td>TL</td>\n",
              "      <td>41</td>\n",
              "      <td>[0, 0, -15, 25, 228, -6, -243, 175, -346, 16, ...</td>\n",
              "      <td>...</td>\n",
              "      <td>Lulu</td>\n",
              "      <td>[475, 475, 532, 771, 1046, 1288, 1534, 1776, 2...</td>\n",
              "      <td>KEITH</td>\n",
              "      <td>KogMaw</td>\n",
              "      <td>[475, 475, 532, 766, 1161, 1438, 1776, 1936, 2...</td>\n",
              "      <td>Xpecial</td>\n",
              "      <td>Janna</td>\n",
              "      <td>[515, 515, 583, 721, 870, 1059, 1205, 1342, 15...</td>\n",
              "      <td>['RekSai', 'Rumble', 'LeeSin']</td>\n",
              "      <td>http://matchhistory.na.leagueoflegends.com/en/...</td>\n",
              "    </tr>\n",
              "    <tr>\n",
              "      <th>4</th>\n",
              "      <td>NALCS</td>\n",
              "      <td>2015</td>\n",
              "      <td>Spring</td>\n",
              "      <td>Season</td>\n",
              "      <td>CLG</td>\n",
              "      <td>1</td>\n",
              "      <td>0</td>\n",
              "      <td>T8</td>\n",
              "      <td>35</td>\n",
              "      <td>[40, 40, 44, -36, 113, 158, -121, -191, 23, 20...</td>\n",
              "      <td>...</td>\n",
              "      <td>Lulu</td>\n",
              "      <td>[475, 475, 532, 807, 1042, 1338, 1646, 1951, 2...</td>\n",
              "      <td>Maplestreet8</td>\n",
              "      <td>Corki</td>\n",
              "      <td>[475, 475, 532, 792, 1187, 1488, 1832, 2136, 2...</td>\n",
              "      <td>Dodo8</td>\n",
              "      <td>Annie</td>\n",
              "      <td>[475, 475, 538, 671, 817, 948, 1104, 1240, 136...</td>\n",
              "      <td>['Rumble', 'Sivir', 'Rengar']</td>\n",
              "      <td>http://matchhistory.na.leagueoflegends.com/en/...</td>\n",
              "    </tr>\n",
              "  </tbody>\n",
              "</table>\n",
              "<p>5 rows × 57 columns</p>\n",
              "</div>\n",
              "      <button class=\"colab-df-convert\" onclick=\"convertToInteractive('df-c7185a9f-fdd9-4d08-8537-b255d7ad52fe')\"\n",
              "              title=\"Convert this dataframe to an interactive table.\"\n",
              "              style=\"display:none;\">\n",
              "        \n",
              "  <svg xmlns=\"http://www.w3.org/2000/svg\" height=\"24px\"viewBox=\"0 0 24 24\"\n",
              "       width=\"24px\">\n",
              "    <path d=\"M0 0h24v24H0V0z\" fill=\"none\"/>\n",
              "    <path d=\"M18.56 5.44l.94 2.06.94-2.06 2.06-.94-2.06-.94-.94-2.06-.94 2.06-2.06.94zm-11 1L8.5 8.5l.94-2.06 2.06-.94-2.06-.94L8.5 2.5l-.94 2.06-2.06.94zm10 10l.94 2.06.94-2.06 2.06-.94-2.06-.94-.94-2.06-.94 2.06-2.06.94z\"/><path d=\"M17.41 7.96l-1.37-1.37c-.4-.4-.92-.59-1.43-.59-.52 0-1.04.2-1.43.59L10.3 9.45l-7.72 7.72c-.78.78-.78 2.05 0 2.83L4 21.41c.39.39.9.59 1.41.59.51 0 1.02-.2 1.41-.59l7.78-7.78 2.81-2.81c.8-.78.8-2.07 0-2.86zM5.41 20L4 18.59l7.72-7.72 1.47 1.35L5.41 20z\"/>\n",
              "  </svg>\n",
              "      </button>\n",
              "      \n",
              "  <style>\n",
              "    .colab-df-container {\n",
              "      display:flex;\n",
              "      flex-wrap:wrap;\n",
              "      gap: 12px;\n",
              "    }\n",
              "\n",
              "    .colab-df-convert {\n",
              "      background-color: #E8F0FE;\n",
              "      border: none;\n",
              "      border-radius: 50%;\n",
              "      cursor: pointer;\n",
              "      display: none;\n",
              "      fill: #1967D2;\n",
              "      height: 32px;\n",
              "      padding: 0 0 0 0;\n",
              "      width: 32px;\n",
              "    }\n",
              "\n",
              "    .colab-df-convert:hover {\n",
              "      background-color: #E2EBFA;\n",
              "      box-shadow: 0px 1px 2px rgba(60, 64, 67, 0.3), 0px 1px 3px 1px rgba(60, 64, 67, 0.15);\n",
              "      fill: #174EA6;\n",
              "    }\n",
              "\n",
              "    [theme=dark] .colab-df-convert {\n",
              "      background-color: #3B4455;\n",
              "      fill: #D2E3FC;\n",
              "    }\n",
              "\n",
              "    [theme=dark] .colab-df-convert:hover {\n",
              "      background-color: #434B5C;\n",
              "      box-shadow: 0px 1px 3px 1px rgba(0, 0, 0, 0.15);\n",
              "      filter: drop-shadow(0px 1px 2px rgba(0, 0, 0, 0.3));\n",
              "      fill: #FFFFFF;\n",
              "    }\n",
              "  </style>\n",
              "\n",
              "      <script>\n",
              "        const buttonEl =\n",
              "          document.querySelector('#df-c7185a9f-fdd9-4d08-8537-b255d7ad52fe button.colab-df-convert');\n",
              "        buttonEl.style.display =\n",
              "          google.colab.kernel.accessAllowed ? 'block' : 'none';\n",
              "\n",
              "        async function convertToInteractive(key) {\n",
              "          const element = document.querySelector('#df-c7185a9f-fdd9-4d08-8537-b255d7ad52fe');\n",
              "          const dataTable =\n",
              "            await google.colab.kernel.invokeFunction('convertToInteractive',\n",
              "                                                     [key], {});\n",
              "          if (!dataTable) return;\n",
              "\n",
              "          const docLinkHtml = 'Like what you see? Visit the ' +\n",
              "            '<a target=\"_blank\" href=https://colab.research.google.com/notebooks/data_table.ipynb>data table notebook</a>'\n",
              "            + ' to learn more about interactive tables.';\n",
              "          element.innerHTML = '';\n",
              "          dataTable['output_type'] = 'display_data';\n",
              "          await google.colab.output.renderOutput(dataTable, element);\n",
              "          const docLink = document.createElement('div');\n",
              "          docLink.innerHTML = docLinkHtml;\n",
              "          element.appendChild(docLink);\n",
              "        }\n",
              "      </script>\n",
              "    </div>\n",
              "  </div>\n",
              "  "
            ]
          },
          "metadata": {},
          "execution_count": 4
        }
      ]
    },
    {
      "cell_type": "code",
      "source": [
        "data.hist(figsize=(15,15))\n",
        "plt.show()"
      ],
      "metadata": {
        "colab": {
          "base_uri": "https://localhost:8080/",
          "height": 882
        },
        "id": "flItbwE7K3tG",
        "outputId": "a3e49b79-c1c5-4c89-f2b3-ee32edd02338"
      },
      "execution_count": 5,
      "outputs": [
        {
          "output_type": "display_data",
          "data": {
            "text/plain": [
              "<Figure size 1080x1080 with 4 Axes>"
            ],
            "image/png": "[encoded data removed]"
          },
          "metadata": {
            "needs_background": "light"
          }
        }
      ]
    },
    {
      "cell_type": "markdown",
      "source": [
        "Посмотрим на исходное распределение одного из признаков."
      ],
      "metadata": {
        "id": "Ha6tE0kcdwLy"
      }
    },
    {
      "cell_type": "code",
      "source": [
        "diagnostic_plots(data, 'gamelength')"
      ],
      "metadata": {
        "colab": {
          "base_uri": "https://localhost:8080/",
          "height": 410
        },
        "id": "DrOWDPwiK_-i",
        "outputId": "6b07ee62-0e45-4594-9abe-0969b79a5ee4"
      },
      "execution_count": 6,
      "outputs": [
        {
          "output_type": "display_data",
          "data": {
            "text/plain": [
              "<Figure size 1080x432 with 2 Axes>"
            ],
            "image/png": "[encoded data removed]"
          },
          "metadata": {
            "needs_background": "light"
          }
        }
      ]
    },
    {
      "cell_type": "markdown",
      "source": [
        "Как можно заметить, распределение этого признака немного отличается от нормального. Попробуем провести нормализацию признака с помощью функции логарифма."
      ],
      "metadata": {
        "id": "HoVQEuEqd0yK"
      }
    },
    {
      "cell_type": "code",
      "source": [
        "data['gamelength_log'] = np.log(data['gamelength'])\n",
        "diagnostic_plots(data, 'gamelength_log')"
      ],
      "metadata": {
        "colab": {
          "base_uri": "https://localhost:8080/",
          "height": 410
        },
        "id": "vU-RC2s3LC9I",
        "outputId": "0717308e-da9e-4950-d76c-85be3f92ef0c"
      },
      "execution_count": 7,
      "outputs": [
        {
          "output_type": "display_data",
          "data": {
            "text/plain": [
              "<Figure size 1080x432 with 2 Axes>"
            ],
            "image/png": "[encoded data removed]"
          },
          "metadata": {
            "needs_background": "light"
          }
        }
      ]
    },
    {
      "cell_type": "markdown",
      "source": [
        "Таким образом, мы получили нормальное распределение этого числового признака."
      ],
      "metadata": {
        "id": "U8goJ9GueKBj"
      }
    },
    {
      "cell_type": "markdown",
      "source": [
        "**Задача №2 (№32)**"
      ],
      "metadata": {
        "id": "wpNPvidJLa9B"
      }
    },
    {
      "cell_type": "markdown",
      "source": [
        "Для набора данных проведите процедуру отбора признаков (feature selection). Используйте метод обертывания (wrapper method), обратный алгоритм (sequential backward selection)."
      ],
      "metadata": {
        "id": "tSyztCiyLTLZ"
      }
    },
    {
      "cell_type": "code",
      "source": [
        "wine = load_wine()\n",
        "wine_X = wine.data\n",
        "wine_y = wine.target\n",
        "wine_feature_names = wine['feature_names']\n",
        "wine_x_df = pd.DataFrame(data=wine['data'], columns=wine['feature_names'])"
      ],
      "metadata": {
        "id": "SwxqnEPXXvv5"
      },
      "execution_count": null,
      "outputs": []
    },
    {
      "cell_type": "code",
      "source": [
        "from sklearn.neighbors import KNeighborsClassifier\n",
        "from mlxtend.feature_selection import SequentialFeatureSelector as SFS\n",
        "\n",
        "knn = KNeighborsClassifier(n_neighbors=3)\n",
        "\n",
        "sbs = SFS(knn, \n",
        "          k_features=1, \n",
        "          forward=False, \n",
        "          floating=False, \n",
        "          verbose=2,\n",
        "          scoring='accuracy',\n",
        "          cv=4)\n",
        "sbs = sbs.fit(wine_X, wine_y)"
      ],
      "metadata": {
        "id": "xv6ZRIUtRvZx"
      },
      "execution_count": null,
      "outputs": []
    },
    {
      "cell_type": "code",
      "source": [
        "sbs.subsets_"
      ],
      "metadata": {
        "colab": {
          "base_uri": "https://localhost:8080/",
          "height": 0
        },
        "id": "KgYGsywwYZD-",
        "outputId": "336eaef1-ee1c-4393-86f5-fe01c3201edf"
      },
      "execution_count": 32,
      "outputs": [
        {
          "output_type": "execute_result",
          "data": {
            "text/plain": [
              "{1: {'avg_score': 0.7532299741602068,\n",
              "  'cv_scores': array([0.66666667, 0.77777778, 0.77777778, 0.79069767]),\n",
              "  'feature_idx': (6,),\n",
              "  'feature_names': ('6',)},\n",
              " 2: {'avg_score': 0.9105943152454781,\n",
              "  'cv_scores': array([0.8       , 0.91111111, 0.97777778, 0.95348837]),\n",
              "  'feature_idx': (6, 9),\n",
              "  'feature_names': ('6', '9')},\n",
              " 3: {'avg_score': 0.9277777777777778,\n",
              "  'cv_scores': array([0.75555556, 0.95555556, 1.        , 1.        ]),\n",
              "  'feature_idx': (0, 6, 9),\n",
              "  'feature_names': ('0', '6', '9')},\n",
              " 4: {'avg_score': 0.9388888888888889,\n",
              "  'cv_scores': array([0.77777778, 0.97777778, 1.        , 1.        ]),\n",
              "  'feature_idx': (0, 6, 8, 9),\n",
              "  'feature_names': ('0', '6', '8', '9')},\n",
              " 5: {'avg_score': 0.9386304909560723,\n",
              "  'cv_scores': array([0.82222222, 0.95555556, 1.        , 0.97674419]),\n",
              "  'feature_idx': (0, 3, 6, 8, 9),\n",
              "  'feature_names': ('0', '3', '6', '8', '9')},\n",
              " 6: {'avg_score': 0.9500000000000001,\n",
              "  'cv_scores': array([0.86666667, 0.95555556, 0.97777778, 1.        ]),\n",
              "  'feature_idx': (0, 3, 6, 8, 9, 11),\n",
              "  'feature_names': ('0', '3', '6', '8', '9', '11')},\n",
              " 7: {'avg_score': 0.9555555555555556,\n",
              "  'cv_scores': array([0.86666667, 0.95555556, 1.        , 1.        ]),\n",
              "  'feature_idx': (0, 2, 3, 6, 8, 9, 11),\n",
              "  'feature_names': ('0', '2', '3', '6', '8', '9', '11')},\n",
              " 8: {'avg_score': 0.9555555555555556,\n",
              "  'cv_scores': array([0.86666667, 0.95555556, 1.        , 1.        ]),\n",
              "  'feature_idx': (0, 2, 3, 6, 7, 8, 9, 11),\n",
              "  'feature_names': ('0', '2', '3', '6', '7', '8', '9', '11')},\n",
              " 9: {'avg_score': 0.9555555555555556,\n",
              "  'cv_scores': array([0.88888889, 0.95555556, 0.97777778, 1.        ]),\n",
              "  'feature_idx': (0, 1, 2, 3, 6, 7, 8, 9, 11),\n",
              "  'feature_names': ('0', '1', '2', '3', '6', '7', '8', '9', '11')},\n",
              " 10: {'avg_score': 0.9500000000000001,\n",
              "  'cv_scores': array([0.86666667, 0.95555556, 0.97777778, 1.        ]),\n",
              "  'feature_idx': (0, 1, 2, 3, 6, 7, 8, 9, 10, 11),\n",
              "  'feature_names': ('0', '1', '2', '3', '6', '7', '8', '9', '10', '11')},\n",
              " 11: {'avg_score': 0.9388888888888889,\n",
              "  'cv_scores': array([0.84444444, 0.93333333, 0.97777778, 1.        ]),\n",
              "  'feature_idx': (0, 1, 2, 3, 5, 6, 7, 8, 9, 10, 11),\n",
              "  'feature_names': ('0', '1', '2', '3', '5', '6', '7', '8', '9', '10', '11')},\n",
              " 12: {'avg_score': 0.8653746770025839,\n",
              "  'cv_scores': array([0.82222222, 0.84444444, 0.91111111, 0.88372093]),\n",
              "  'feature_idx': (0, 1, 2, 3, 4, 5, 6, 7, 8, 9, 10, 11),\n",
              "  'feature_names': ('0',\n",
              "   '1',\n",
              "   '2',\n",
              "   '3',\n",
              "   '4',\n",
              "   '5',\n",
              "   '6',\n",
              "   '7',\n",
              "   '8',\n",
              "   '9',\n",
              "   '10',\n",
              "   '11')},\n",
              " 13: {'avg_score': 0.6815245478036176,\n",
              "  'cv_scores': array([0.6       , 0.68888889, 0.6       , 0.8372093 ]),\n",
              "  'feature_idx': (0, 1, 2, 3, 4, 5, 6, 7, 8, 9, 10, 11, 12),\n",
              "  'feature_names': ('0',\n",
              "   '1',\n",
              "   '2',\n",
              "   '3',\n",
              "   '4',\n",
              "   '5',\n",
              "   '6',\n",
              "   '7',\n",
              "   '8',\n",
              "   '9',\n",
              "   '10',\n",
              "   '11',\n",
              "   '12')}}"
            ]
          },
          "metadata": {},
          "execution_count": 32
        }
      ]
    },
    {
      "cell_type": "code",
      "source": [
        "sbs.k_feature_idx_"
      ],
      "metadata": {
        "colab": {
          "base_uri": "https://localhost:8080/",
          "height": 0
        },
        "id": "205OERURYu-4",
        "outputId": "187befb4-09e9-4c83-fec8-3607e950effd"
      },
      "execution_count": 33,
      "outputs": [
        {
          "output_type": "execute_result",
          "data": {
            "text/plain": [
              "(6,)"
            ]
          },
          "metadata": {},
          "execution_count": 33
        }
      ]
    },
    {
      "cell_type": "code",
      "source": [
        "sbs.k_feature_names_"
      ],
      "metadata": {
        "colab": {
          "base_uri": "https://localhost:8080/",
          "height": 0
        },
        "id": "opO9565YYxAA",
        "outputId": "bba4f46c-9f60-4add-ad9f-cc97c073a25c"
      },
      "execution_count": 34,
      "outputs": [
        {
          "output_type": "execute_result",
          "data": {
            "text/plain": [
              "('6',)"
            ]
          },
          "metadata": {},
          "execution_count": 34
        }
      ]
    },
    {
      "cell_type": "code",
      "source": [
        "sbs.k_score_"
      ],
      "metadata": {
        "colab": {
          "base_uri": "https://localhost:8080/",
          "height": 0
        },
        "id": "w6e6cBfHY2SV",
        "outputId": "068c750d-975c-4ace-9133-5d7947093093"
      },
      "execution_count": 35,
      "outputs": [
        {
          "output_type": "execute_result",
          "data": {
            "text/plain": [
              "0.7532299741602068"
            ]
          },
          "metadata": {},
          "execution_count": 35
        }
      ]
    },
    {
      "cell_type": "markdown",
      "source": [
        "Из проведённого анализа видно, что наивысшей точностью модель обладает при 7 признаках. Проведём повторный прогон, для нахождения 7 признаков."
      ],
      "metadata": {
        "id": "QOICb0V9bRHy"
      }
    },
    {
      "cell_type": "code",
      "source": [
        "sbs = SFS(knn, \n",
        "          k_features=7, \n",
        "          forward=False, \n",
        "          floating=False, \n",
        "          verbose=2,\n",
        "          scoring='accuracy',\n",
        "          cv=4)\n",
        "sbs = sbs.fit(wine_X, wine_y)"
      ],
      "metadata": {
        "id": "kcNLZw6bbsI5"
      },
      "execution_count": null,
      "outputs": []
    },
    {
      "cell_type": "code",
      "source": [
        "sbs.subsets_"
      ],
      "metadata": {
        "colab": {
          "base_uri": "https://localhost:8080/",
          "height": 0
        },
        "id": "l55lwFBobyN2",
        "outputId": "0943d6d6-a870-4563-8743-8e1dbb92eaa7"
      },
      "execution_count": 37,
      "outputs": [
        {
          "output_type": "execute_result",
          "data": {
            "text/plain": [
              "{7: {'avg_score': 0.9555555555555556,\n",
              "  'cv_scores': array([0.86666667, 0.95555556, 1.        , 1.        ]),\n",
              "  'feature_idx': (0, 2, 3, 6, 8, 9, 11),\n",
              "  'feature_names': ('0', '2', '3', '6', '8', '9', '11')},\n",
              " 8: {'avg_score': 0.9555555555555556,\n",
              "  'cv_scores': array([0.86666667, 0.95555556, 1.        , 1.        ]),\n",
              "  'feature_idx': (0, 2, 3, 6, 7, 8, 9, 11),\n",
              "  'feature_names': ('0', '2', '3', '6', '7', '8', '9', '11')},\n",
              " 9: {'avg_score': 0.9555555555555556,\n",
              "  'cv_scores': array([0.88888889, 0.95555556, 0.97777778, 1.        ]),\n",
              "  'feature_idx': (0, 1, 2, 3, 6, 7, 8, 9, 11),\n",
              "  'feature_names': ('0', '1', '2', '3', '6', '7', '8', '9', '11')},\n",
              " 10: {'avg_score': 0.9500000000000001,\n",
              "  'cv_scores': array([0.86666667, 0.95555556, 0.97777778, 1.        ]),\n",
              "  'feature_idx': (0, 1, 2, 3, 6, 7, 8, 9, 10, 11),\n",
              "  'feature_names': ('0', '1', '2', '3', '6', '7', '8', '9', '10', '11')},\n",
              " 11: {'avg_score': 0.9388888888888889,\n",
              "  'cv_scores': array([0.84444444, 0.93333333, 0.97777778, 1.        ]),\n",
              "  'feature_idx': (0, 1, 2, 3, 5, 6, 7, 8, 9, 10, 11),\n",
              "  'feature_names': ('0', '1', '2', '3', '5', '6', '7', '8', '9', '10', '11')},\n",
              " 12: {'avg_score': 0.8653746770025839,\n",
              "  'cv_scores': array([0.82222222, 0.84444444, 0.91111111, 0.88372093]),\n",
              "  'feature_idx': (0, 1, 2, 3, 4, 5, 6, 7, 8, 9, 10, 11),\n",
              "  'feature_names': ('0',\n",
              "   '1',\n",
              "   '2',\n",
              "   '3',\n",
              "   '4',\n",
              "   '5',\n",
              "   '6',\n",
              "   '7',\n",
              "   '8',\n",
              "   '9',\n",
              "   '10',\n",
              "   '11')},\n",
              " 13: {'avg_score': 0.6815245478036176,\n",
              "  'cv_scores': array([0.6       , 0.68888889, 0.6       , 0.8372093 ]),\n",
              "  'feature_idx': (0, 1, 2, 3, 4, 5, 6, 7, 8, 9, 10, 11, 12),\n",
              "  'feature_names': ('0',\n",
              "   '1',\n",
              "   '2',\n",
              "   '3',\n",
              "   '4',\n",
              "   '5',\n",
              "   '6',\n",
              "   '7',\n",
              "   '8',\n",
              "   '9',\n",
              "   '10',\n",
              "   '11',\n",
              "   '12')}}"
            ]
          },
          "metadata": {},
          "execution_count": 37
        }
      ]
    },
    {
      "cell_type": "markdown",
      "source": [
        "Просмотрим индексы оставшихся 7 признаков"
      ],
      "metadata": {
        "id": "jg8KOOWGb3wy"
      }
    },
    {
      "cell_type": "code",
      "source": [
        "sbs.k_feature_idx_"
      ],
      "metadata": {
        "colab": {
          "base_uri": "https://localhost:8080/",
          "height": 0
        },
        "id": "6b4vYLHLb1Zz",
        "outputId": "b67c0f27-bd77-4494-b892-1fe2a4e2a5fc"
      },
      "execution_count": 38,
      "outputs": [
        {
          "output_type": "execute_result",
          "data": {
            "text/plain": [
              "(0, 2, 3, 6, 8, 9, 11)"
            ]
          },
          "metadata": {},
          "execution_count": 38
        }
      ]
    },
    {
      "cell_type": "code",
      "source": [
        "sbs.k_feature_names_"
      ],
      "metadata": {
        "colab": {
          "base_uri": "https://localhost:8080/",
          "height": 0
        },
        "id": "nYR49aawcAT-",
        "outputId": "908297a0-c08a-4e92-abb4-cd0ab741fc40"
      },
      "execution_count": 39,
      "outputs": [
        {
          "output_type": "execute_result",
          "data": {
            "text/plain": [
              "('0', '2', '3', '6', '8', '9', '11')"
            ]
          },
          "metadata": {},
          "execution_count": 39
        }
      ]
    },
    {
      "cell_type": "markdown",
      "source": [
        "Посмотрим на точность полученной модели."
      ],
      "metadata": {
        "id": "pVgB1AUncFGy"
      }
    },
    {
      "cell_type": "code",
      "source": [
        "sbs.k_score_"
      ],
      "metadata": {
        "colab": {
          "base_uri": "https://localhost:8080/",
          "height": 0
        },
        "id": "Z8vx4-3-cEHO",
        "outputId": "f55037d7-48e2-42ba-8792-70d9eb0925d5"
      },
      "execution_count": 40,
      "outputs": [
        {
          "output_type": "execute_result",
          "data": {
            "text/plain": [
              "0.9555555555555556"
            ]
          },
          "metadata": {},
          "execution_count": 40
        }
      ]
    },
    {
      "cell_type": "markdown",
      "source": [
        "**Дополнительное задание**"
      ],
      "metadata": {
        "id": "J1KxfT8gNgzX"
      }
    },
    {
      "cell_type": "markdown",
      "source": [
        "Для пары произвольных колонок данных построить график \"Диаграмма рассеяния\"."
      ],
      "metadata": {
        "id": "J8WzMyYtNmHp"
      }
    },
    {
      "cell_type": "code",
      "source": [
        "sns.regplot(x=data['gamelength'], y=data['Year'])"
      ],
      "metadata": {
        "colab": {
          "base_uri": "https://localhost:8080/",
          "height": 302
        },
        "id": "g06wohG6NkyX",
        "outputId": "3937938c-0a65-4190-c5e4-a117d1955b5b"
      },
      "execution_count": 46,
      "outputs": [
        {
          "output_type": "execute_result",
          "data": {
            "text/plain": [
              "<matplotlib.axes._subplots.AxesSubplot at 0x7f91f0424b90>"
            ]
          },
          "metadata": {},
          "execution_count": 46
        },
        {
          "output_type": "display_data",
          "data": {
            "text/plain": [
              "<Figure size 432x288 with 1 Axes>"
            ],
            "image/png": "[encoded data removed]"
          },
          "metadata": {
            "needs_background": "light"
          }
        }
      ]
    },
    {
      "cell_type": "markdown",
      "source": [
        "Построили график рассеяния, показывающий зависимость между двумя признаками: gamelength (продолжительностью игры) и Year (годом)"
      ],
      "metadata": {
        "id": "GSlBFgIedQdt"
      }
    }
  ]
}