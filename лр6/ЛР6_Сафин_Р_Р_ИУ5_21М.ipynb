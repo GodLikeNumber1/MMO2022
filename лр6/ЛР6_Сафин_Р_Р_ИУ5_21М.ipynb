{
  "cells": [
    {
      "cell_type": "markdown",
      "metadata": {
        "id": "BNQ0McEkN8lx"
      },
      "source": [
        "# **Лабораторная работа №6:**\n",
        "## \"Разработка системы предсказания поведения на основании графовых моделей\"\n",
        "\n",
        "---\n",
        "\n",
        "*Цель*: обучение работе с графовым типом данных и графовыми нейронными сетями.\n",
        "\n",
        "*Задача*: подготовить графовый датасет из базы данных о покупках и построить модель предсказания совершения покупки.\n",
        "\n",
        "---\n",
        "\n",
        "## Графовые нейронные сети\n",
        "\n",
        "**Графовые нейронные сети** - тип нейронной сети, которая напрямую работает со структурой графа. Типичным применениями GNN являются:\n",
        "- Классификация узлов;\n",
        "- Предсказание связей;\n",
        "- Графовая классификация;\n",
        "- Распознавание движений;\n",
        "- Рекомендательные системы.\n",
        "\n",
        "В данной лабораторной работе будет происходить работа над **графовыми сверточными сетями**. Отличаются они от сверточных нейронных сетей нефиксированной структурой, функция свертки не является .\n",
        "\n",
        "Подробнее можно прочитать тут: https://towardsdatascience.com/understanding-graph-convolutional-networks-for-node-classification-a2bfdb7aba7b\n",
        "\n",
        "Тут можно почитать современные подходы к использованию графовых сверточных сетей \n",
        "https://paperswithcode.com/method/gcn\n",
        "\n",
        "---\n",
        "\n",
        "## Датасет\n",
        "В качестве базы данных предлагаем использовать датасет о покупках пользователей в одном магазине товаров RecSys Challenge 2015 (https://www.kaggle.com/datasets/chadgostopp/recsys-challenge-2015). \n",
        "\n",
        "Скачать датасет можно отсюда: https://drive.google.com/drive/folders/1gtAeXPTj-c0RwVOKreMrZ3bfSmCwl2y-?usp=sharing\n",
        "(lite-версия является облегченной версией исходного датасета, рекомендуем использовать её)\n",
        "\n",
        "Также рекомендуем загружать данные в виде архива и распаковывать через пакет zipfile или/и скачивать датасет в собственный Google Drive и примонтировать его в колаб.\n",
        "\n",
        "---"
      ]
    },
    {
      "cell_type": "markdown",
      "metadata": {
        "id": "rbxaUgCSl4ZK"
      },
      "source": [
        "### Установка библиотек, выгрузка исходных датасетов"
      ]
    },
    {
      "cell_type": "code",
      "execution_count": 1,
      "metadata": {
        "colab": {
          "base_uri": "https://localhost:8080/"
        },
        "id": "iCtRdgl7kjeF",
        "outputId": "196bd0ad-8aaf-472e-b110-6c53c43fc5c1"
      },
      "outputs": [
        {
          "output_type": "stream",
          "name": "stdout",
          "text": [
            "Looking in indexes: https://pypi.org/simple, https://us-python.pkg.dev/colab-wheels/public/simple/\n",
            "Looking in links: https://pytorch-geometric.com/whl/torch-1.11.0%2Bcu113.html\n",
            "Collecting torch-sparse\n",
            "  Downloading https://data.pyg.org/whl/torch-1.11.0%2Bcu113/torch_sparse-0.6.13-cp37-cp37m-linux_x86_64.whl (3.5 MB)\n",
            "\u001b[K     |████████████████████████████████| 3.5 MB 35.1 MB/s \n",
            "\u001b[?25hRequirement already satisfied: scipy in /usr/local/lib/python3.7/dist-packages (from torch-sparse) (1.4.1)\n",
            "Requirement already satisfied: numpy>=1.13.3 in /usr/local/lib/python3.7/dist-packages (from scipy->torch-sparse) (1.21.6)\n",
            "Installing collected packages: torch-sparse\n",
            "Successfully installed torch-sparse-0.6.13\n",
            "Looking in indexes: https://pypi.org/simple, https://us-python.pkg.dev/colab-wheels/public/simple/\n",
            "Looking in links: https://pytorch-geometric.com/whl/torch-1.11.0%2Bcu113.html\n",
            "Collecting torch-cluster\n",
            "  Downloading https://data.pyg.org/whl/torch-1.11.0%2Bcu113/torch_cluster-1.6.0-cp37-cp37m-linux_x86_64.whl (2.5 MB)\n",
            "\u001b[K     |████████████████████████████████| 2.5 MB 41.7 MB/s \n",
            "\u001b[?25hInstalling collected packages: torch-cluster\n",
            "Successfully installed torch-cluster-1.6.0\n",
            "Looking in indexes: https://pypi.org/simple, https://us-python.pkg.dev/colab-wheels/public/simple/\n",
            "Looking in links: https://pytorch-geometric.com/whl/torch-1.11.0%2Bcu113.html\n",
            "Collecting torch-spline-conv\n",
            "  Downloading https://data.pyg.org/whl/torch-1.11.0%2Bcu113/torch_spline_conv-1.2.1-cp37-cp37m-linux_x86_64.whl (750 kB)\n",
            "\u001b[K     |████████████████████████████████| 750 kB 44.0 MB/s \n",
            "\u001b[?25hInstalling collected packages: torch-spline-conv\n",
            "Successfully installed torch-spline-conv-1.2.1\n",
            "Looking in indexes: https://pypi.org/simple, https://us-python.pkg.dev/colab-wheels/public/simple/\n",
            "Looking in links: https://pytorch-geometric.com/whl/torch-1.11.0%2Bcu113.html\n",
            "Collecting torch-geometric\n",
            "  Downloading torch_geometric-2.0.4.tar.gz (407 kB)\n",
            "\u001b[K     |████████████████████████████████| 407 kB 31.0 MB/s \n",
            "\u001b[?25hRequirement already satisfied: tqdm in /usr/local/lib/python3.7/dist-packages (from torch-geometric) (4.64.0)\n",
            "Requirement already satisfied: numpy in /usr/local/lib/python3.7/dist-packages (from torch-geometric) (1.21.6)\n",
            "Requirement already satisfied: scipy in /usr/local/lib/python3.7/dist-packages (from torch-geometric) (1.4.1)\n",
            "Requirement already satisfied: pandas in /usr/local/lib/python3.7/dist-packages (from torch-geometric) (1.3.5)\n",
            "Requirement already satisfied: jinja2 in /usr/local/lib/python3.7/dist-packages (from torch-geometric) (2.11.3)\n",
            "Requirement already satisfied: requests in /usr/local/lib/python3.7/dist-packages (from torch-geometric) (2.23.0)\n",
            "Requirement already satisfied: pyparsing in /usr/local/lib/python3.7/dist-packages (from torch-geometric) (3.0.9)\n",
            "Requirement already satisfied: scikit-learn in /usr/local/lib/python3.7/dist-packages (from torch-geometric) (1.0.2)\n",
            "Requirement already satisfied: MarkupSafe>=0.23 in /usr/local/lib/python3.7/dist-packages (from jinja2->torch-geometric) (2.0.1)\n",
            "Requirement already satisfied: pytz>=2017.3 in /usr/local/lib/python3.7/dist-packages (from pandas->torch-geometric) (2022.1)\n",
            "Requirement already satisfied: python-dateutil>=2.7.3 in /usr/local/lib/python3.7/dist-packages (from pandas->torch-geometric) (2.8.2)\n",
            "Requirement already satisfied: six>=1.5 in /usr/local/lib/python3.7/dist-packages (from python-dateutil>=2.7.3->pandas->torch-geometric) (1.15.0)\n",
            "Requirement already satisfied: idna<3,>=2.5 in /usr/local/lib/python3.7/dist-packages (from requests->torch-geometric) (2.10)\n",
            "Requirement already satisfied: chardet<4,>=3.0.2 in /usr/local/lib/python3.7/dist-packages (from requests->torch-geometric) (3.0.4)\n",
            "Requirement already satisfied: urllib3!=1.25.0,!=1.25.1,<1.26,>=1.21.1 in /usr/local/lib/python3.7/dist-packages (from requests->torch-geometric) (1.24.3)\n",
            "Requirement already satisfied: certifi>=2017.4.17 in /usr/local/lib/python3.7/dist-packages (from requests->torch-geometric) (2022.5.18.1)\n",
            "Requirement already satisfied: joblib>=0.11 in /usr/local/lib/python3.7/dist-packages (from scikit-learn->torch-geometric) (1.1.0)\n",
            "Requirement already satisfied: threadpoolctl>=2.0.0 in /usr/local/lib/python3.7/dist-packages (from scikit-learn->torch-geometric) (3.1.0)\n",
            "Building wheels for collected packages: torch-geometric\n",
            "  Building wheel for torch-geometric (setup.py) ... \u001b[?25l\u001b[?25hdone\n",
            "  Created wheel for torch-geometric: filename=torch_geometric-2.0.4-py3-none-any.whl size=616603 sha256=2831832a06cf55619bb32c04afa1ea46392cd9c1537def741baf97e879c1b72d\n",
            "  Stored in directory: /root/.cache/pip/wheels/18/a6/a4/ca18c3051fcead866fe7b85700ee2240d883562a1bc70ce421\n",
            "Successfully built torch-geometric\n",
            "Installing collected packages: torch-geometric\n",
            "Successfully installed torch-geometric-2.0.4\n",
            "Looking in indexes: https://pypi.org/simple, https://us-python.pkg.dev/colab-wheels/public/simple/\n",
            "Looking in links: https://data.pyg.org/whl/torch-1.11.0%2Bcu113.html\n",
            "Collecting torch-scatter==2.0.8\n",
            "  Downloading torch_scatter-2.0.8.tar.gz (21 kB)\n",
            "Building wheels for collected packages: torch-scatter\n",
            "  Building wheel for torch-scatter (setup.py) ... \u001b[?25l\u001b[?25hdone\n",
            "  Created wheel for torch-scatter: filename=torch_scatter-2.0.8-cp37-cp37m-linux_x86_64.whl size=3222013 sha256=f63977f3dfb347b99b84d6f0d62bba824e62604acd8887d77d17dd0d39066688\n",
            "  Stored in directory: /root/.cache/pip/wheels/96/e4/4e/2bcc6de6a801960aedbca43f7106d268f766c3f9f8ab49b3a5\n",
            "Successfully built torch-scatter\n",
            "Installing collected packages: torch-scatter\n",
            "Successfully installed torch-scatter-2.0.8\n"
          ]
        }
      ],
      "source": [
        "# Slow method of installing pytorch geometric\n",
        "# !pip install torch_geometric\n",
        "# !pip install torch_sparse\n",
        "# !pip install torch_scatter\n",
        "\n",
        "# Install pytorch geometric\n",
        "!pip install torch-sparse -f https://pytorch-geometric.com/whl/torch-1.11.0%2Bcu113.html\n",
        "!pip install torch-cluster -f https://pytorch-geometric.com/whl/torch-1.11.0%2Bcu113.html\n",
        "!pip install torch-spline-conv -f https://pytorch-geometric.com/whl/torch-1.11.0%2Bcu113.html\n",
        "!pip install torch-geometric -f https://pytorch-geometric.com/whl/torch-1.11.0%2Bcu113.html\n",
        "!pip install torch-scatter==2.0.8 -f https://data.pyg.org/whl/torch-1.11.0%2Bcu113.html"
      ]
    },
    {
      "cell_type": "code",
      "execution_count": 2,
      "metadata": {
        "id": "zu_Eij2Qvpkx"
      },
      "outputs": [],
      "source": [
        "import numpy as np\n",
        "import pandas as pd\n",
        "import pickle\n",
        "import csv\n",
        "import os\n",
        "\n",
        "from sklearn.preprocessing import LabelEncoder\n",
        "\n",
        "import torch\n",
        "\n",
        "# PyG - PyTorch Geometric\n",
        "from torch_geometric.data import Data, DataLoader, InMemoryDataset\n",
        "\n",
        "from tqdm import tqdm\n",
        "\n",
        "\n",
        "RANDOM_SEED = 42 #@param { type: \"integer\" }\n",
        "BASE_DIR = '/content/' #@param { type: \"string\" }\n",
        "np.random.seed(RANDOM_SEED) "
      ]
    },
    {
      "cell_type": "code",
      "execution_count": 3,
      "metadata": {
        "colab": {
          "base_uri": "https://localhost:8080/"
        },
        "id": "Cez-y8ssoOGV",
        "outputId": "7aa8a764-e9b0-4ea8-8c30-2fa82318e4cd"
      },
      "outputs": [
        {
          "output_type": "execute_result",
          "data": {
            "text/plain": [
              "<function torch.cuda.is_available>"
            ]
          },
          "metadata": {},
          "execution_count": 3
        }
      ],
      "source": [
        "# Check if CUDA is available for colab\n",
        "torch.cuda.is_available"
      ]
    },
    {
      "cell_type": "code",
      "execution_count": 4,
      "metadata": {
        "id": "eSCoxRCCRcWR"
      },
      "outputs": [],
      "source": [
        "# Unpack files from zip-file\n",
        "import zipfile\n",
        "with zipfile.ZipFile(BASE_DIR + 'yoochoose-data-lite.zip', 'r') as zip_ref:\n",
        "    zip_ref.extractall(BASE_DIR)"
      ]
    },
    {
      "cell_type": "markdown",
      "metadata": {
        "id": "pXjuYTjPFdOl"
      },
      "source": [
        "### Анализ исходных данных"
      ]
    },
    {
      "cell_type": "code",
      "execution_count": 5,
      "metadata": {
        "colab": {
          "base_uri": "https://localhost:8080/",
          "height": 241
        },
        "id": "lXthpQBX9zKH",
        "outputId": "27814931-b072-472c-e863-8773c8dff14c"
      },
      "outputs": [
        {
          "output_type": "stream",
          "name": "stderr",
          "text": [
            "/usr/local/lib/python3.7/dist-packages/IPython/core/interactiveshell.py:2882: DtypeWarning: Columns (3) have mixed types.Specify dtype option on import or set low_memory=False.\n",
            "  exec(code_obj, self.user_global_ns, self.user_ns)\n"
          ]
        },
        {
          "output_type": "execute_result",
          "data": {
            "text/plain": [
              "   session_id                 timestamp    item_id category\n",
              "0           9  2014-04-06T11:26:24.127Z  214576500        0\n",
              "1           9  2014-04-06T11:28:54.654Z  214576500        0\n",
              "2           9  2014-04-06T11:29:13.479Z  214576500        0\n",
              "3          19  2014-04-01T20:52:12.357Z  214561790        0\n",
              "4          19  2014-04-01T20:52:13.758Z  214561790        0"
            ],
            "text/html": [
              "\n",
              "  <div id=\"df-8d9ba663-ef5c-4da8-80a9-a3d74efe34e7\">\n",
              "    <div class=\"colab-df-container\">\n",
              "      <div>\n",
              "<style scoped>\n",
              "    .dataframe tbody tr th:only-of-type {\n",
              "        vertical-align: middle;\n",
              "    }\n",
              "\n",
              "    .dataframe tbody tr th {\n",
              "        vertical-align: top;\n",
              "    }\n",
              "\n",
              "    .dataframe thead th {\n",
              "        text-align: right;\n",
              "    }\n",
              "</style>\n",
              "<table border=\"1\" class=\"dataframe\">\n",
              "  <thead>\n",
              "    <tr style=\"text-align: right;\">\n",
              "      <th></th>\n",
              "      <th>session_id</th>\n",
              "      <th>timestamp</th>\n",
              "      <th>item_id</th>\n",
              "      <th>category</th>\n",
              "    </tr>\n",
              "  </thead>\n",
              "  <tbody>\n",
              "    <tr>\n",
              "      <th>0</th>\n",
              "      <td>9</td>\n",
              "      <td>2014-04-06T11:26:24.127Z</td>\n",
              "      <td>214576500</td>\n",
              "      <td>0</td>\n",
              "    </tr>\n",
              "    <tr>\n",
              "      <th>1</th>\n",
              "      <td>9</td>\n",
              "      <td>2014-04-06T11:28:54.654Z</td>\n",
              "      <td>214576500</td>\n",
              "      <td>0</td>\n",
              "    </tr>\n",
              "    <tr>\n",
              "      <th>2</th>\n",
              "      <td>9</td>\n",
              "      <td>2014-04-06T11:29:13.479Z</td>\n",
              "      <td>214576500</td>\n",
              "      <td>0</td>\n",
              "    </tr>\n",
              "    <tr>\n",
              "      <th>3</th>\n",
              "      <td>19</td>\n",
              "      <td>2014-04-01T20:52:12.357Z</td>\n",
              "      <td>214561790</td>\n",
              "      <td>0</td>\n",
              "    </tr>\n",
              "    <tr>\n",
              "      <th>4</th>\n",
              "      <td>19</td>\n",
              "      <td>2014-04-01T20:52:13.758Z</td>\n",
              "      <td>214561790</td>\n",
              "      <td>0</td>\n",
              "    </tr>\n",
              "  </tbody>\n",
              "</table>\n",
              "</div>\n",
              "      <button class=\"colab-df-convert\" onclick=\"convertToInteractive('df-8d9ba663-ef5c-4da8-80a9-a3d74efe34e7')\"\n",
              "              title=\"Convert this dataframe to an interactive table.\"\n",
              "              style=\"display:none;\">\n",
              "        \n",
              "  <svg xmlns=\"http://www.w3.org/2000/svg\" height=\"24px\"viewBox=\"0 0 24 24\"\n",
              "       width=\"24px\">\n",
              "    <path d=\"M0 0h24v24H0V0z\" fill=\"none\"/>\n",
              "    <path d=\"M18.56 5.44l.94 2.06.94-2.06 2.06-.94-2.06-.94-.94-2.06-.94 2.06-2.06.94zm-11 1L8.5 8.5l.94-2.06 2.06-.94-2.06-.94L8.5 2.5l-.94 2.06-2.06.94zm10 10l.94 2.06.94-2.06 2.06-.94-2.06-.94-.94-2.06-.94 2.06-2.06.94z\"/><path d=\"M17.41 7.96l-1.37-1.37c-.4-.4-.92-.59-1.43-.59-.52 0-1.04.2-1.43.59L10.3 9.45l-7.72 7.72c-.78.78-.78 2.05 0 2.83L4 21.41c.39.39.9.59 1.41.59.51 0 1.02-.2 1.41-.59l7.78-7.78 2.81-2.81c.8-.78.8-2.07 0-2.86zM5.41 20L4 18.59l7.72-7.72 1.47 1.35L5.41 20z\"/>\n",
              "  </svg>\n",
              "      </button>\n",
              "      \n",
              "  <style>\n",
              "    .colab-df-container {\n",
              "      display:flex;\n",
              "      flex-wrap:wrap;\n",
              "      gap: 12px;\n",
              "    }\n",
              "\n",
              "    .colab-df-convert {\n",
              "      background-color: #E8F0FE;\n",
              "      border: none;\n",
              "      border-radius: 50%;\n",
              "      cursor: pointer;\n",
              "      display: none;\n",
              "      fill: #1967D2;\n",
              "      height: 32px;\n",
              "      padding: 0 0 0 0;\n",
              "      width: 32px;\n",
              "    }\n",
              "\n",
              "    .colab-df-convert:hover {\n",
              "      background-color: #E2EBFA;\n",
              "      box-shadow: 0px 1px 2px rgba(60, 64, 67, 0.3), 0px 1px 3px 1px rgba(60, 64, 67, 0.15);\n",
              "      fill: #174EA6;\n",
              "    }\n",
              "\n",
              "    [theme=dark] .colab-df-convert {\n",
              "      background-color: #3B4455;\n",
              "      fill: #D2E3FC;\n",
              "    }\n",
              "\n",
              "    [theme=dark] .colab-df-convert:hover {\n",
              "      background-color: #434B5C;\n",
              "      box-shadow: 0px 1px 3px 1px rgba(0, 0, 0, 0.15);\n",
              "      filter: drop-shadow(0px 1px 2px rgba(0, 0, 0, 0.3));\n",
              "      fill: #FFFFFF;\n",
              "    }\n",
              "  </style>\n",
              "\n",
              "      <script>\n",
              "        const buttonEl =\n",
              "          document.querySelector('#df-8d9ba663-ef5c-4da8-80a9-a3d74efe34e7 button.colab-df-convert');\n",
              "        buttonEl.style.display =\n",
              "          google.colab.kernel.accessAllowed ? 'block' : 'none';\n",
              "\n",
              "        async function convertToInteractive(key) {\n",
              "          const element = document.querySelector('#df-8d9ba663-ef5c-4da8-80a9-a3d74efe34e7');\n",
              "          const dataTable =\n",
              "            await google.colab.kernel.invokeFunction('convertToInteractive',\n",
              "                                                     [key], {});\n",
              "          if (!dataTable) return;\n",
              "\n",
              "          const docLinkHtml = 'Like what you see? Visit the ' +\n",
              "            '<a target=\"_blank\" href=https://colab.research.google.com/notebooks/data_table.ipynb>data table notebook</a>'\n",
              "            + ' to learn more about interactive tables.';\n",
              "          element.innerHTML = '';\n",
              "          dataTable['output_type'] = 'display_data';\n",
              "          await google.colab.output.renderOutput(dataTable, element);\n",
              "          const docLink = document.createElement('div');\n",
              "          docLink.innerHTML = docLinkHtml;\n",
              "          element.appendChild(docLink);\n",
              "        }\n",
              "      </script>\n",
              "    </div>\n",
              "  </div>\n",
              "  "
            ]
          },
          "metadata": {},
          "execution_count": 5
        }
      ],
      "source": [
        "# Read dataset of items in store\n",
        "df = pd.read_csv(BASE_DIR + 'yoochoose-clicks-lite.dat')\n",
        "# df.columns = ['session_id', 'timestamp', 'item_id', 'category'] \n",
        "df.head()"
      ]
    },
    {
      "cell_type": "code",
      "execution_count": 6,
      "metadata": {
        "colab": {
          "base_uri": "https://localhost:8080/",
          "height": 206
        },
        "id": "JwHMXnNlvpk2",
        "outputId": "c8dccbf2-bcb9-41c3-eee3-fe506fc57255"
      },
      "outputs": [
        {
          "output_type": "execute_result",
          "data": {
            "text/plain": [
              "   session_id                 timestamp    item_id  price  quantity\n",
              "0      420374  2014-04-06T18:44:58.314Z  214537888  12462         1\n",
              "1      420374  2014-04-06T18:44:58.325Z  214537850  10471         1\n",
              "2      489758  2014-04-06T09:59:52.422Z  214826955   1360         2\n",
              "3      489758  2014-04-06T09:59:52.476Z  214826715    732         2\n",
              "4      489758  2014-04-06T09:59:52.578Z  214827026   1046         1"
            ],
            "text/html": [
              "\n",
              "  <div id=\"df-402508bb-168a-4b21-bfe5-2ab8d36f1eee\">\n",
              "    <div class=\"colab-df-container\">\n",
              "      <div>\n",
              "<style scoped>\n",
              "    .dataframe tbody tr th:only-of-type {\n",
              "        vertical-align: middle;\n",
              "    }\n",
              "\n",
              "    .dataframe tbody tr th {\n",
              "        vertical-align: top;\n",
              "    }\n",
              "\n",
              "    .dataframe thead th {\n",
              "        text-align: right;\n",
              "    }\n",
              "</style>\n",
              "<table border=\"1\" class=\"dataframe\">\n",
              "  <thead>\n",
              "    <tr style=\"text-align: right;\">\n",
              "      <th></th>\n",
              "      <th>session_id</th>\n",
              "      <th>timestamp</th>\n",
              "      <th>item_id</th>\n",
              "      <th>price</th>\n",
              "      <th>quantity</th>\n",
              "    </tr>\n",
              "  </thead>\n",
              "  <tbody>\n",
              "    <tr>\n",
              "      <th>0</th>\n",
              "      <td>420374</td>\n",
              "      <td>2014-04-06T18:44:58.314Z</td>\n",
              "      <td>214537888</td>\n",
              "      <td>12462</td>\n",
              "      <td>1</td>\n",
              "    </tr>\n",
              "    <tr>\n",
              "      <th>1</th>\n",
              "      <td>420374</td>\n",
              "      <td>2014-04-06T18:44:58.325Z</td>\n",
              "      <td>214537850</td>\n",
              "      <td>10471</td>\n",
              "      <td>1</td>\n",
              "    </tr>\n",
              "    <tr>\n",
              "      <th>2</th>\n",
              "      <td>489758</td>\n",
              "      <td>2014-04-06T09:59:52.422Z</td>\n",
              "      <td>214826955</td>\n",
              "      <td>1360</td>\n",
              "      <td>2</td>\n",
              "    </tr>\n",
              "    <tr>\n",
              "      <th>3</th>\n",
              "      <td>489758</td>\n",
              "      <td>2014-04-06T09:59:52.476Z</td>\n",
              "      <td>214826715</td>\n",
              "      <td>732</td>\n",
              "      <td>2</td>\n",
              "    </tr>\n",
              "    <tr>\n",
              "      <th>4</th>\n",
              "      <td>489758</td>\n",
              "      <td>2014-04-06T09:59:52.578Z</td>\n",
              "      <td>214827026</td>\n",
              "      <td>1046</td>\n",
              "      <td>1</td>\n",
              "    </tr>\n",
              "  </tbody>\n",
              "</table>\n",
              "</div>\n",
              "      <button class=\"colab-df-convert\" onclick=\"convertToInteractive('df-402508bb-168a-4b21-bfe5-2ab8d36f1eee')\"\n",
              "              title=\"Convert this dataframe to an interactive table.\"\n",
              "              style=\"display:none;\">\n",
              "        \n",
              "  <svg xmlns=\"http://www.w3.org/2000/svg\" height=\"24px\"viewBox=\"0 0 24 24\"\n",
              "       width=\"24px\">\n",
              "    <path d=\"M0 0h24v24H0V0z\" fill=\"none\"/>\n",
              "    <path d=\"M18.56 5.44l.94 2.06.94-2.06 2.06-.94-2.06-.94-.94-2.06-.94 2.06-2.06.94zm-11 1L8.5 8.5l.94-2.06 2.06-.94-2.06-.94L8.5 2.5l-.94 2.06-2.06.94zm10 10l.94 2.06.94-2.06 2.06-.94-2.06-.94-.94-2.06-.94 2.06-2.06.94z\"/><path d=\"M17.41 7.96l-1.37-1.37c-.4-.4-.92-.59-1.43-.59-.52 0-1.04.2-1.43.59L10.3 9.45l-7.72 7.72c-.78.78-.78 2.05 0 2.83L4 21.41c.39.39.9.59 1.41.59.51 0 1.02-.2 1.41-.59l7.78-7.78 2.81-2.81c.8-.78.8-2.07 0-2.86zM5.41 20L4 18.59l7.72-7.72 1.47 1.35L5.41 20z\"/>\n",
              "  </svg>\n",
              "      </button>\n",
              "      \n",
              "  <style>\n",
              "    .colab-df-container {\n",
              "      display:flex;\n",
              "      flex-wrap:wrap;\n",
              "      gap: 12px;\n",
              "    }\n",
              "\n",
              "    .colab-df-convert {\n",
              "      background-color: #E8F0FE;\n",
              "      border: none;\n",
              "      border-radius: 50%;\n",
              "      cursor: pointer;\n",
              "      display: none;\n",
              "      fill: #1967D2;\n",
              "      height: 32px;\n",
              "      padding: 0 0 0 0;\n",
              "      width: 32px;\n",
              "    }\n",
              "\n",
              "    .colab-df-convert:hover {\n",
              "      background-color: #E2EBFA;\n",
              "      box-shadow: 0px 1px 2px rgba(60, 64, 67, 0.3), 0px 1px 3px 1px rgba(60, 64, 67, 0.15);\n",
              "      fill: #174EA6;\n",
              "    }\n",
              "\n",
              "    [theme=dark] .colab-df-convert {\n",
              "      background-color: #3B4455;\n",
              "      fill: #D2E3FC;\n",
              "    }\n",
              "\n",
              "    [theme=dark] .colab-df-convert:hover {\n",
              "      background-color: #434B5C;\n",
              "      box-shadow: 0px 1px 3px 1px rgba(0, 0, 0, 0.15);\n",
              "      filter: drop-shadow(0px 1px 2px rgba(0, 0, 0, 0.3));\n",
              "      fill: #FFFFFF;\n",
              "    }\n",
              "  </style>\n",
              "\n",
              "      <script>\n",
              "        const buttonEl =\n",
              "          document.querySelector('#df-402508bb-168a-4b21-bfe5-2ab8d36f1eee button.colab-df-convert');\n",
              "        buttonEl.style.display =\n",
              "          google.colab.kernel.accessAllowed ? 'block' : 'none';\n",
              "\n",
              "        async function convertToInteractive(key) {\n",
              "          const element = document.querySelector('#df-402508bb-168a-4b21-bfe5-2ab8d36f1eee');\n",
              "          const dataTable =\n",
              "            await google.colab.kernel.invokeFunction('convertToInteractive',\n",
              "                                                     [key], {});\n",
              "          if (!dataTable) return;\n",
              "\n",
              "          const docLinkHtml = 'Like what you see? Visit the ' +\n",
              "            '<a target=\"_blank\" href=https://colab.research.google.com/notebooks/data_table.ipynb>data table notebook</a>'\n",
              "            + ' to learn more about interactive tables.';\n",
              "          element.innerHTML = '';\n",
              "          dataTable['output_type'] = 'display_data';\n",
              "          await google.colab.output.renderOutput(dataTable, element);\n",
              "          const docLink = document.createElement('div');\n",
              "          docLink.innerHTML = docLinkHtml;\n",
              "          element.appendChild(docLink);\n",
              "        }\n",
              "      </script>\n",
              "    </div>\n",
              "  </div>\n",
              "  "
            ]
          },
          "metadata": {},
          "execution_count": 6
        }
      ],
      "source": [
        "# Read dataset of purchases\n",
        "buy_df = pd.read_csv(BASE_DIR + 'yoochoose-buys-lite.dat')\n",
        "# buy_df.columns = ['session_id', 'timestamp', 'item_id', 'price', 'quantity']\n",
        "buy_df.head()"
      ]
    },
    {
      "cell_type": "code",
      "execution_count": 7,
      "metadata": {
        "id": "ENE_n4lLvpk2",
        "colab": {
          "base_uri": "https://localhost:8080/"
        },
        "outputId": "80f4b619-38d2-42bc-f389-5a8f7390932c"
      },
      "outputs": [
        {
          "output_type": "execute_result",
          "data": {
            "text/plain": [
              "session_id    1000000\n",
              "timestamp     5557758\n",
              "item_id         37644\n",
              "category          275\n",
              "dtype: int64"
            ]
          },
          "metadata": {},
          "execution_count": 7
        }
      ],
      "source": [
        "# Filter out item session with length < 2\n",
        "df['valid_session'] = df.session_id.map(df.groupby('session_id')['item_id'].size() > 2)\n",
        "df = df.loc[df.valid_session].drop('valid_session',axis=1)\n",
        "df.nunique()"
      ]
    },
    {
      "cell_type": "code",
      "execution_count": 8,
      "metadata": {
        "id": "-bC3IJYQvpk3",
        "scrolled": true,
        "colab": {
          "base_uri": "https://localhost:8080/"
        },
        "outputId": "870a3760-efa1-4466-b148-5294926254f6"
      },
      "outputs": [
        {
          "output_type": "execute_result",
          "data": {
            "text/plain": [
              "session_id     65000\n",
              "timestamp     362213\n",
              "item_id        20034\n",
              "category         122\n",
              "dtype: int64"
            ]
          },
          "metadata": {},
          "execution_count": 8
        }
      ],
      "source": [
        "# Randomly sample a couple of them\n",
        "NUM_SESSIONS = 65000 #@param { type: \"integer\" }\n",
        "sampled_session_id = np.random.choice(df.session_id.unique(), NUM_SESSIONS, replace=False)\n",
        "df = df.loc[df.session_id.isin(sampled_session_id)]\n",
        "df.nunique()"
      ]
    },
    {
      "cell_type": "code",
      "execution_count": 9,
      "metadata": {
        "colab": {
          "base_uri": "https://localhost:8080/"
        },
        "id": "zVz-DwENvpk3",
        "outputId": "795dfabd-4d3a-4662-bf25-d73348c840f0"
      },
      "outputs": [
        {
          "output_type": "execute_result",
          "data": {
            "text/plain": [
              "5.572723076923077"
            ]
          },
          "metadata": {},
          "execution_count": 9
        }
      ],
      "source": [
        "# Average length of session\n",
        "df.groupby('session_id')['item_id'].size().mean()"
      ]
    },
    {
      "cell_type": "code",
      "execution_count": 10,
      "metadata": {
        "colab": {
          "base_uri": "https://localhost:8080/",
          "height": 206
        },
        "id": "OIqelMBYvpk4",
        "outputId": "d3d03dc1-feaf-4114-e19f-1a17daf90c22"
      },
      "outputs": [
        {
          "output_type": "execute_result",
          "data": {
            "text/plain": [
              "    session_id                 timestamp  item_id  category\n",
              "0            9  2014-04-06T11:26:24.127Z     3787         0\n",
              "1            9  2014-04-06T11:28:54.654Z     3787         0\n",
              "2            9  2014-04-06T11:29:13.479Z     3787         0\n",
              "94         154  2014-04-03T08:59:07.398Z    14015         0\n",
              "95         154  2014-04-03T09:00:18.944Z    16271         0"
            ],
            "text/html": [
              "\n",
              "  <div id=\"df-8ea0f4c7-4f3c-4ca3-af60-b5a02f99cc3a\">\n",
              "    <div class=\"colab-df-container\">\n",
              "      <div>\n",
              "<style scoped>\n",
              "    .dataframe tbody tr th:only-of-type {\n",
              "        vertical-align: middle;\n",
              "    }\n",
              "\n",
              "    .dataframe tbody tr th {\n",
              "        vertical-align: top;\n",
              "    }\n",
              "\n",
              "    .dataframe thead th {\n",
              "        text-align: right;\n",
              "    }\n",
              "</style>\n",
              "<table border=\"1\" class=\"dataframe\">\n",
              "  <thead>\n",
              "    <tr style=\"text-align: right;\">\n",
              "      <th></th>\n",
              "      <th>session_id</th>\n",
              "      <th>timestamp</th>\n",
              "      <th>item_id</th>\n",
              "      <th>category</th>\n",
              "    </tr>\n",
              "  </thead>\n",
              "  <tbody>\n",
              "    <tr>\n",
              "      <th>0</th>\n",
              "      <td>9</td>\n",
              "      <td>2014-04-06T11:26:24.127Z</td>\n",
              "      <td>3787</td>\n",
              "      <td>0</td>\n",
              "    </tr>\n",
              "    <tr>\n",
              "      <th>1</th>\n",
              "      <td>9</td>\n",
              "      <td>2014-04-06T11:28:54.654Z</td>\n",
              "      <td>3787</td>\n",
              "      <td>0</td>\n",
              "    </tr>\n",
              "    <tr>\n",
              "      <th>2</th>\n",
              "      <td>9</td>\n",
              "      <td>2014-04-06T11:29:13.479Z</td>\n",
              "      <td>3787</td>\n",
              "      <td>0</td>\n",
              "    </tr>\n",
              "    <tr>\n",
              "      <th>94</th>\n",
              "      <td>154</td>\n",
              "      <td>2014-04-03T08:59:07.398Z</td>\n",
              "      <td>14015</td>\n",
              "      <td>0</td>\n",
              "    </tr>\n",
              "    <tr>\n",
              "      <th>95</th>\n",
              "      <td>154</td>\n",
              "      <td>2014-04-03T09:00:18.944Z</td>\n",
              "      <td>16271</td>\n",
              "      <td>0</td>\n",
              "    </tr>\n",
              "  </tbody>\n",
              "</table>\n",
              "</div>\n",
              "      <button class=\"colab-df-convert\" onclick=\"convertToInteractive('df-8ea0f4c7-4f3c-4ca3-af60-b5a02f99cc3a')\"\n",
              "              title=\"Convert this dataframe to an interactive table.\"\n",
              "              style=\"display:none;\">\n",
              "        \n",
              "  <svg xmlns=\"http://www.w3.org/2000/svg\" height=\"24px\"viewBox=\"0 0 24 24\"\n",
              "       width=\"24px\">\n",
              "    <path d=\"M0 0h24v24H0V0z\" fill=\"none\"/>\n",
              "    <path d=\"M18.56 5.44l.94 2.06.94-2.06 2.06-.94-2.06-.94-.94-2.06-.94 2.06-2.06.94zm-11 1L8.5 8.5l.94-2.06 2.06-.94-2.06-.94L8.5 2.5l-.94 2.06-2.06.94zm10 10l.94 2.06.94-2.06 2.06-.94-2.06-.94-.94-2.06-.94 2.06-2.06.94z\"/><path d=\"M17.41 7.96l-1.37-1.37c-.4-.4-.92-.59-1.43-.59-.52 0-1.04.2-1.43.59L10.3 9.45l-7.72 7.72c-.78.78-.78 2.05 0 2.83L4 21.41c.39.39.9.59 1.41.59.51 0 1.02-.2 1.41-.59l7.78-7.78 2.81-2.81c.8-.78.8-2.07 0-2.86zM5.41 20L4 18.59l7.72-7.72 1.47 1.35L5.41 20z\"/>\n",
              "  </svg>\n",
              "      </button>\n",
              "      \n",
              "  <style>\n",
              "    .colab-df-container {\n",
              "      display:flex;\n",
              "      flex-wrap:wrap;\n",
              "      gap: 12px;\n",
              "    }\n",
              "\n",
              "    .colab-df-convert {\n",
              "      background-color: #E8F0FE;\n",
              "      border: none;\n",
              "      border-radius: 50%;\n",
              "      cursor: pointer;\n",
              "      display: none;\n",
              "      fill: #1967D2;\n",
              "      height: 32px;\n",
              "      padding: 0 0 0 0;\n",
              "      width: 32px;\n",
              "    }\n",
              "\n",
              "    .colab-df-convert:hover {\n",
              "      background-color: #E2EBFA;\n",
              "      box-shadow: 0px 1px 2px rgba(60, 64, 67, 0.3), 0px 1px 3px 1px rgba(60, 64, 67, 0.15);\n",
              "      fill: #174EA6;\n",
              "    }\n",
              "\n",
              "    [theme=dark] .colab-df-convert {\n",
              "      background-color: #3B4455;\n",
              "      fill: #D2E3FC;\n",
              "    }\n",
              "\n",
              "    [theme=dark] .colab-df-convert:hover {\n",
              "      background-color: #434B5C;\n",
              "      box-shadow: 0px 1px 3px 1px rgba(0, 0, 0, 0.15);\n",
              "      filter: drop-shadow(0px 1px 2px rgba(0, 0, 0, 0.3));\n",
              "      fill: #FFFFFF;\n",
              "    }\n",
              "  </style>\n",
              "\n",
              "      <script>\n",
              "        const buttonEl =\n",
              "          document.querySelector('#df-8ea0f4c7-4f3c-4ca3-af60-b5a02f99cc3a button.colab-df-convert');\n",
              "        buttonEl.style.display =\n",
              "          google.colab.kernel.accessAllowed ? 'block' : 'none';\n",
              "\n",
              "        async function convertToInteractive(key) {\n",
              "          const element = document.querySelector('#df-8ea0f4c7-4f3c-4ca3-af60-b5a02f99cc3a');\n",
              "          const dataTable =\n",
              "            await google.colab.kernel.invokeFunction('convertToInteractive',\n",
              "                                                     [key], {});\n",
              "          if (!dataTable) return;\n",
              "\n",
              "          const docLinkHtml = 'Like what you see? Visit the ' +\n",
              "            '<a target=\"_blank\" href=https://colab.research.google.com/notebooks/data_table.ipynb>data table notebook</a>'\n",
              "            + ' to learn more about interactive tables.';\n",
              "          element.innerHTML = '';\n",
              "          dataTable['output_type'] = 'display_data';\n",
              "          await google.colab.output.renderOutput(dataTable, element);\n",
              "          const docLink = document.createElement('div');\n",
              "          docLink.innerHTML = docLinkHtml;\n",
              "          element.appendChild(docLink);\n",
              "        }\n",
              "      </script>\n",
              "    </div>\n",
              "  </div>\n",
              "  "
            ]
          },
          "metadata": {},
          "execution_count": 10
        }
      ],
      "source": [
        "# Encode item and category id in item dataset so that ids will be in range (0,len(df.item.unique()))\n",
        "item_encoder = LabelEncoder()\n",
        "category_encoder = LabelEncoder()\n",
        "df['item_id'] = item_encoder.fit_transform(df.item_id)\n",
        "df['category']= category_encoder.fit_transform(df.category.apply(str))\n",
        "df.head()"
      ]
    },
    {
      "cell_type": "code",
      "execution_count": 11,
      "metadata": {
        "colab": {
          "base_uri": "https://localhost:8080/",
          "height": 310
        },
        "id": "Gn5n37mBvpk5",
        "outputId": "ebe7ded6-9d3a-49fe-a053-73d5e77303d7",
        "scrolled": true
      },
      "outputs": [
        {
          "output_type": "stream",
          "name": "stderr",
          "text": [
            "/usr/local/lib/python3.7/dist-packages/ipykernel_launcher.py:3: SettingWithCopyWarning: \n",
            "A value is trying to be set on a copy of a slice from a DataFrame.\n",
            "Try using .loc[row_indexer,col_indexer] = value instead\n",
            "\n",
            "See the caveats in the documentation: https://pandas.pydata.org/pandas-docs/stable/user_guide/indexing.html#returning-a-view-versus-a-copy\n",
            "  This is separate from the ipykernel package so we can avoid doing imports until\n"
          ]
        },
        {
          "output_type": "execute_result",
          "data": {
            "text/plain": [
              "    session_id                 timestamp  item_id  price  quantity\n",
              "33         189  2014-04-04T07:23:10.719Z     5707   4711         1\n",
              "46      489491  2014-04-06T12:41:34.047Z    13816   1046         4\n",
              "47      489491  2014-04-06T12:41:34.091Z    13817    627         2\n",
              "57         396  2014-04-06T17:53:45.147Z    14011    523         1\n",
              "61       70353  2014-04-06T10:55:06.086Z    15642  41783         1"
            ],
            "text/html": [
              "\n",
              "  <div id=\"df-191ed8b2-0159-4ad3-90d5-60a56d4eb0fe\">\n",
              "    <div class=\"colab-df-container\">\n",
              "      <div>\n",
              "<style scoped>\n",
              "    .dataframe tbody tr th:only-of-type {\n",
              "        vertical-align: middle;\n",
              "    }\n",
              "\n",
              "    .dataframe tbody tr th {\n",
              "        vertical-align: top;\n",
              "    }\n",
              "\n",
              "    .dataframe thead th {\n",
              "        text-align: right;\n",
              "    }\n",
              "</style>\n",
              "<table border=\"1\" class=\"dataframe\">\n",
              "  <thead>\n",
              "    <tr style=\"text-align: right;\">\n",
              "      <th></th>\n",
              "      <th>session_id</th>\n",
              "      <th>timestamp</th>\n",
              "      <th>item_id</th>\n",
              "      <th>price</th>\n",
              "      <th>quantity</th>\n",
              "    </tr>\n",
              "  </thead>\n",
              "  <tbody>\n",
              "    <tr>\n",
              "      <th>33</th>\n",
              "      <td>189</td>\n",
              "      <td>2014-04-04T07:23:10.719Z</td>\n",
              "      <td>5707</td>\n",
              "      <td>4711</td>\n",
              "      <td>1</td>\n",
              "    </tr>\n",
              "    <tr>\n",
              "      <th>46</th>\n",
              "      <td>489491</td>\n",
              "      <td>2014-04-06T12:41:34.047Z</td>\n",
              "      <td>13816</td>\n",
              "      <td>1046</td>\n",
              "      <td>4</td>\n",
              "    </tr>\n",
              "    <tr>\n",
              "      <th>47</th>\n",
              "      <td>489491</td>\n",
              "      <td>2014-04-06T12:41:34.091Z</td>\n",
              "      <td>13817</td>\n",
              "      <td>627</td>\n",
              "      <td>2</td>\n",
              "    </tr>\n",
              "    <tr>\n",
              "      <th>57</th>\n",
              "      <td>396</td>\n",
              "      <td>2014-04-06T17:53:45.147Z</td>\n",
              "      <td>14011</td>\n",
              "      <td>523</td>\n",
              "      <td>1</td>\n",
              "    </tr>\n",
              "    <tr>\n",
              "      <th>61</th>\n",
              "      <td>70353</td>\n",
              "      <td>2014-04-06T10:55:06.086Z</td>\n",
              "      <td>15642</td>\n",
              "      <td>41783</td>\n",
              "      <td>1</td>\n",
              "    </tr>\n",
              "  </tbody>\n",
              "</table>\n",
              "</div>\n",
              "      <button class=\"colab-df-convert\" onclick=\"convertToInteractive('df-191ed8b2-0159-4ad3-90d5-60a56d4eb0fe')\"\n",
              "              title=\"Convert this dataframe to an interactive table.\"\n",
              "              style=\"display:none;\">\n",
              "        \n",
              "  <svg xmlns=\"http://www.w3.org/2000/svg\" height=\"24px\"viewBox=\"0 0 24 24\"\n",
              "       width=\"24px\">\n",
              "    <path d=\"M0 0h24v24H0V0z\" fill=\"none\"/>\n",
              "    <path d=\"M18.56 5.44l.94 2.06.94-2.06 2.06-.94-2.06-.94-.94-2.06-.94 2.06-2.06.94zm-11 1L8.5 8.5l.94-2.06 2.06-.94-2.06-.94L8.5 2.5l-.94 2.06-2.06.94zm10 10l.94 2.06.94-2.06 2.06-.94-2.06-.94-.94-2.06-.94 2.06-2.06.94z\"/><path d=\"M17.41 7.96l-1.37-1.37c-.4-.4-.92-.59-1.43-.59-.52 0-1.04.2-1.43.59L10.3 9.45l-7.72 7.72c-.78.78-.78 2.05 0 2.83L4 21.41c.39.39.9.59 1.41.59.51 0 1.02-.2 1.41-.59l7.78-7.78 2.81-2.81c.8-.78.8-2.07 0-2.86zM5.41 20L4 18.59l7.72-7.72 1.47 1.35L5.41 20z\"/>\n",
              "  </svg>\n",
              "      </button>\n",
              "      \n",
              "  <style>\n",
              "    .colab-df-container {\n",
              "      display:flex;\n",
              "      flex-wrap:wrap;\n",
              "      gap: 12px;\n",
              "    }\n",
              "\n",
              "    .colab-df-convert {\n",
              "      background-color: #E8F0FE;\n",
              "      border: none;\n",
              "      border-radius: 50%;\n",
              "      cursor: pointer;\n",
              "      display: none;\n",
              "      fill: #1967D2;\n",
              "      height: 32px;\n",
              "      padding: 0 0 0 0;\n",
              "      width: 32px;\n",
              "    }\n",
              "\n",
              "    .colab-df-convert:hover {\n",
              "      background-color: #E2EBFA;\n",
              "      box-shadow: 0px 1px 2px rgba(60, 64, 67, 0.3), 0px 1px 3px 1px rgba(60, 64, 67, 0.15);\n",
              "      fill: #174EA6;\n",
              "    }\n",
              "\n",
              "    [theme=dark] .colab-df-convert {\n",
              "      background-color: #3B4455;\n",
              "      fill: #D2E3FC;\n",
              "    }\n",
              "\n",
              "    [theme=dark] .colab-df-convert:hover {\n",
              "      background-color: #434B5C;\n",
              "      box-shadow: 0px 1px 3px 1px rgba(0, 0, 0, 0.15);\n",
              "      filter: drop-shadow(0px 1px 2px rgba(0, 0, 0, 0.3));\n",
              "      fill: #FFFFFF;\n",
              "    }\n",
              "  </style>\n",
              "\n",
              "      <script>\n",
              "        const buttonEl =\n",
              "          document.querySelector('#df-191ed8b2-0159-4ad3-90d5-60a56d4eb0fe button.colab-df-convert');\n",
              "        buttonEl.style.display =\n",
              "          google.colab.kernel.accessAllowed ? 'block' : 'none';\n",
              "\n",
              "        async function convertToInteractive(key) {\n",
              "          const element = document.querySelector('#df-191ed8b2-0159-4ad3-90d5-60a56d4eb0fe');\n",
              "          const dataTable =\n",
              "            await google.colab.kernel.invokeFunction('convertToInteractive',\n",
              "                                                     [key], {});\n",
              "          if (!dataTable) return;\n",
              "\n",
              "          const docLinkHtml = 'Like what you see? Visit the ' +\n",
              "            '<a target=\"_blank\" href=https://colab.research.google.com/notebooks/data_table.ipynb>data table notebook</a>'\n",
              "            + ' to learn more about interactive tables.';\n",
              "          element.innerHTML = '';\n",
              "          dataTable['output_type'] = 'display_data';\n",
              "          await google.colab.output.renderOutput(dataTable, element);\n",
              "          const docLink = document.createElement('div');\n",
              "          docLink.innerHTML = docLinkHtml;\n",
              "          element.appendChild(docLink);\n",
              "        }\n",
              "      </script>\n",
              "    </div>\n",
              "  </div>\n",
              "  "
            ]
          },
          "metadata": {},
          "execution_count": 11
        }
      ],
      "source": [
        "# Encode item and category id in purchase dataset\n",
        "buy_df = buy_df.loc[buy_df.session_id.isin(df.session_id)]\n",
        "buy_df['item_id'] = item_encoder.transform(buy_df.item_id)\n",
        "buy_df.head()"
      ]
    },
    {
      "cell_type": "code",
      "execution_count": 12,
      "metadata": {
        "colab": {
          "base_uri": "https://localhost:8080/"
        },
        "id": "9X2r4dSUvpk5",
        "outputId": "c0adb869-1c60-4f61-d4a3-41314e497456"
      },
      "outputs": [
        {
          "output_type": "execute_result",
          "data": {
            "text/plain": [
              "{189: [5707],\n",
              " 396: [14011],\n",
              " 714: [16042, 16239, 16241, 3353],\n",
              " 6016: [16487],\n",
              " 6628: [13971, 14083],\n",
              " 9797: [13640, 12904],\n",
              " 9862: [14891],\n",
              " 10457: [10950, 3196],\n",
              " 10587: [12835],\n",
              " 10678: [6823, 4238],\n",
              " 13476: [14902, 14082, 14079, 14081, 14053],\n",
              " 16953: [3125, 8400],\n",
              " 17116: [13784],\n",
              " 17934: [16295, 17049, 16933, 16925, 17052],\n",
              " 19029: [8981, 2329, 11283, 12457],\n",
              " 19958: [10929, 10929],\n",
              " 23548: [12267],\n",
              " 24439: [13688, 13679],\n",
              " 27526: [16809],\n",
              " 28709: [4370],\n",
              " 29647: [14029, 14026],\n",
              " 33907: [2663, 6512],\n",
              " 34541: [678, 14026],\n",
              " 36548: [16042, 16240],\n",
              " 38019: [12253, 12258],\n",
              " 38261: [3735],\n",
              " 41333: [12912, 14025, 12912],\n",
              " 41598: [11626, 11625, 2176, 11627],\n",
              " 43834: [12234, 12234],\n",
              " 44153: [16408, 16421],\n",
              " 44813: [14018, 13817],\n",
              " 48974: [8067, 13972],\n",
              " 49886: [2547, 12238, 12252, 11536],\n",
              " 54961: [2106, 12394, 14011, 8467],\n",
              " 55877: [5198],\n",
              " 56538: [15309],\n",
              " 62553: [13992],\n",
              " 64759: [16391],\n",
              " 64802: [12349],\n",
              " 65581: [14692, 13572, 13802, 4236],\n",
              " 69277: [8605],\n",
              " 70353: [15642],\n",
              " 71832: [12912, 13537],\n",
              " 73271: [12267, 12267, 12268],\n",
              " 74083: [14065],\n",
              " 74449: [1052],\n",
              " 79937: [12959, 12898, 12898, 12959],\n",
              " 87673: [13791],\n",
              " 88198: [12232, 12232],\n",
              " 88723: [12267, 12267],\n",
              " 89393: [12267],\n",
              " 91903: [12231],\n",
              " 92224: [284],\n",
              " 93282: [16164,\n",
              "  6215,\n",
              "  6211,\n",
              "  460,\n",
              "  4623,\n",
              "  4853,\n",
              "  7641,\n",
              "  7645,\n",
              "  6217,\n",
              "  4864,\n",
              "  7646,\n",
              "  4875,\n",
              "  7748,\n",
              "  2217,\n",
              "  2226,\n",
              "  2218],\n",
              " 98507: [12231],\n",
              " 100952: [10698, 10698],\n",
              " 103133: [12259],\n",
              " 104659: [12464, 5234, 9192],\n",
              " 108344: [14728, 12252, 12239],\n",
              " 108489: [15163],\n",
              " 110788: [1287],\n",
              " 111304: [13804, 14692],\n",
              " 114113: [13988],\n",
              " 114461: [2550, 14025],\n",
              " 116004: [10569],\n",
              " 116373: [10718],\n",
              " 122179: [353],\n",
              " 125163: [3844, 6249],\n",
              " 126769: [3594, 13968, 13967],\n",
              " 127311: [14031, 13735, 14046, 13515, 13970, 13971],\n",
              " 128359: [4847],\n",
              " 128562: [12517, 13986, 14011, 13735],\n",
              " 130059: [13583],\n",
              " 132646: [6115],\n",
              " 136192: [14081, 14053, 14079],\n",
              " 138344: [5221],\n",
              " 139834: [15984, 14877, 9862],\n",
              " 142132: [678, 13965],\n",
              " 142902: [12257, 12257],\n",
              " 143246: [5185],\n",
              " 144146: [13987, 13965, 13817, 14011, 13988],\n",
              " 144241: [13815],\n",
              " 147952: [16042, 16242, 16241, 14011, 14024],\n",
              " 150664: [14024, 12366, 14260, 14039, 11389],\n",
              " 150723: [13804, 14692, 13802, 4488],\n",
              " 150926: [14011, 13986, 14012],\n",
              " 152571: [4268],\n",
              " 155513: [12729],\n",
              " 157247: [8992],\n",
              " 159568: [14144, 14144],\n",
              " 160843: [12863],\n",
              " 164104: [14039, 14024, 13799, 10786],\n",
              " 169179: [11629, 11628],\n",
              " 171209: [13988],\n",
              " 171554: [16391],\n",
              " 172101: [12510, 9446, 9457, 13812],\n",
              " 172324: [16042, 16239, 16241, 16240],\n",
              " 175289: [13817],\n",
              " 175897: [12254],\n",
              " 177247: [13817, 13815],\n",
              " 177641: [2409],\n",
              " 180369: [13968, 14027, 14025],\n",
              " 182148: [15070, 13543],\n",
              " 185409: [12231],\n",
              " 187838: [3694],\n",
              " 188339: [13813, 13987],\n",
              " 188726: [12660],\n",
              " 189138: [14011, 13986],\n",
              " 191361: [12913],\n",
              " 192869: [13964],\n",
              " 193483: [6849],\n",
              " 196342: [10358, 3640],\n",
              " 197056: [14730, 14730, 14730],\n",
              " 197889: [13740],\n",
              " 198147: [12252],\n",
              " 198939: [13740],\n",
              " 201316: [13535],\n",
              " 202037: [14728, 12258, 12233],\n",
              " 203623: [8956],\n",
              " 204676: [12267, 12267],\n",
              " 205377: [13678, 13679, 13688, 13679, 13688, 13678],\n",
              " 207407: [8306, 8301],\n",
              " 212159: [5325, 11385, 11518],\n",
              " 212573: [4602],\n",
              " 214007: [13815],\n",
              " 218862: [16391],\n",
              " 219736: [13816],\n",
              " 220063: [9381, 9563, 9538, 9539],\n",
              " 221904: [6545, 8645, 13802],\n",
              " 222178: [10053],\n",
              " 222293: [14082, 14053, 14081, 14902, 12719, 14079],\n",
              " 223497: [13754, 13732, 8326, 13858, 8354, 13731, 13733, 9011, 13808, 9014],\n",
              " 224769: [4238],\n",
              " 224788: [4847],\n",
              " 226324: [8382],\n",
              " 227657: [12257, 11441, 12280],\n",
              " 229109: [13550, 13515],\n",
              " 229858: [15929, 626],\n",
              " 232349: [202, 5198],\n",
              " 232521: [13493, 13493],\n",
              " 234059: [12252, 12455],\n",
              " 239123: [13861, 13815],\n",
              " 239224: [5302, 5302],\n",
              " 241053: [14012, 16932, 16904, 16910, 16589, 16794],\n",
              " 242477: [13988, 13817, 1114, 13815],\n",
              " 242636: [429],\n",
              " 243838: [16317, 15263],\n",
              " 245392: [8606, 10922, 13992],\n",
              " 245427: [4848],\n",
              " 245733: [13597, 13968, 13813],\n",
              " 247706: [4025],\n",
              " 248291: [12234, 12253],\n",
              " 249438: [16344],\n",
              " 249672: [14260, 2331],\n",
              " 249843: [12268],\n",
              " 251596: [13553],\n",
              " 251777: [1973],\n",
              " 252884: [14033, 14027, 13964, 14046, 4200],\n",
              " 256753: [12237],\n",
              " 257992: [486, 12409, 13671, 10150],\n",
              " 259584: [16645, 16644, 16397],\n",
              " 260207: [12259],\n",
              " 260364: [12230, 12410],\n",
              " 260656: [18],\n",
              " 265763: [14026,\n",
              "  14083,\n",
              "  8640,\n",
              "  14053,\n",
              "  14065,\n",
              "  6545,\n",
              "  13970,\n",
              "  12810,\n",
              "  8640,\n",
              "  14026,\n",
              "  14065,\n",
              "  14053,\n",
              "  14083,\n",
              "  13970,\n",
              "  12810,\n",
              "  6545],\n",
              " 266467: [11387, 13987, 12959, 16295],\n",
              " 270696: [8076, 1200, 8076, 1200],\n",
              " 272839: [11186],\n",
              " 274233: [15659, 13858],\n",
              " 276266: [10634],\n",
              " 277534: [12564, 14032, 375],\n",
              " 283099: [16391],\n",
              " 284831: [12256],\n",
              " 285344: [13688, 13685, 13679, 13740, 13688, 13679, 13685, 13740],\n",
              " 285497: [13679, 5145],\n",
              " 287659: [8985],\n",
              " 288241: [12267, 12268],\n",
              " 291433: [14937, 13803, 13801, 3216],\n",
              " 294559: [8889],\n",
              " 295229: [9000, 8594, 8576, 7024, 13731, 12810, 13733, 14032, 8589],\n",
              " 295338: [13784],\n",
              " 295684: [13964, 11385, 13624, 678, 14029],\n",
              " 297264: [13988, 14010, 13987],\n",
              " 298599: [13992, 8227],\n",
              " 299953: [9416, 9561, 9524, 9532, 16434, 9561, 9416, 9524, 9532, 16434],\n",
              " 300253: [1287],\n",
              " 301339: [5199, 5198],\n",
              " 301426: [214, 13987],\n",
              " 302057: [12233, 12233],\n",
              " 304968: [4007, 1257, 260],\n",
              " 305804: [12253],\n",
              " 305913: [11540],\n",
              " 306903: [16470,\n",
              "  16956,\n",
              "  16655,\n",
              "  16941,\n",
              "  16470,\n",
              "  16941,\n",
              "  16655,\n",
              "  16956,\n",
              "  16941,\n",
              "  16956,\n",
              "  16470,\n",
              "  16655],\n",
              " 308539: [13802, 13567, 13861, 13572],\n",
              " 310234: [12235],\n",
              " 313978: [13740, 1637, 9265],\n",
              " 314311: [10551, 1877, 12267, 12267],\n",
              " 318261: [16391],\n",
              " 319517: [13682, 14024, 14199, 9011],\n",
              " 320068: [15461],\n",
              " 321967: [14089, 10905],\n",
              " 327329: [14065, 13974],\n",
              " 327427: [4526, 4526],\n",
              " 333733: [14065, 13974, 12013],\n",
              " 336051: [16271, 16269],\n",
              " 337309: [14065, 13964],\n",
              " 341142: [2547, 13965, 14018],\n",
              " 341384: [14033,\n",
              "  15659,\n",
              "  15653,\n",
              "  10293,\n",
              "  14078,\n",
              "  13967,\n",
              "  13968,\n",
              "  13969,\n",
              "  13821,\n",
              "  13970],\n",
              " 345242: [10918, 10929],\n",
              " 346679: [353, 11405],\n",
              " 347824: [11184, 13791, 11184],\n",
              " 349007: [13679, 13688],\n",
              " 350491: [13816, 12912],\n",
              " 356392: [10050, 10050],\n",
              " 357583: [13988],\n",
              " 358303: [14043, 2544, 13637],\n",
              " 363567: [4235, 4238],\n",
              " 368121: [13687],\n",
              " 374406: [13823, 14012],\n",
              " 378782: [13821, 14046],\n",
              " 379616: [11252, 9256],\n",
              " 381399: [14982],\n",
              " 383213: [378],\n",
              " 385363: [1504],\n",
              " 387298: [12236, 12236],\n",
              " 388957: [14024],\n",
              " 390967: [977],\n",
              " 391946: [9532, 16944, 16945],\n",
              " 394362: [13730],\n",
              " 397214: [16042],\n",
              " 400079: [14079, 14902, 14082, 14081, 11980, 14199, 9009, 14091],\n",
              " 400631: [12258],\n",
              " 404271: [15924, 16069],\n",
              " 404878: [12914],\n",
              " 405392: [9298, 12469, 8641],\n",
              " 406213: [15789],\n",
              " 407394: [13806],\n",
              " 408041: [13974, 13974],\n",
              " 408093: [4267],\n",
              " 410391: [6011],\n",
              " 411638: [15661, 15924, 15659, 15658],\n",
              " 411696: [13632],\n",
              " 413277: [4267],\n",
              " 413432: [16042],\n",
              " 416564: [1052, 1051],\n",
              " 417204: [13986, 13968, 13971, 13457, 13970, 13973, 13789],\n",
              " 417343: [14728],\n",
              " 418038: [11955, 14065],\n",
              " 418436: [13988],\n",
              " 419113: [14729],\n",
              " 423113: [12912, 4330],\n",
              " 424841: [14065, 13974],\n",
              " 424861: [14042],\n",
              " 425214: [16295],\n",
              " 427086: [12490, 12486, 13801, 14259, 13799],\n",
              " 430931: [14018, 13813],\n",
              " 433573: [12898, 12899, 12897],\n",
              " 435346: [12257],\n",
              " 435912: [12899, 12960],\n",
              " 438957: [16042],\n",
              " 440729: [13669, 4555, 14054, 13861, 14055, 3250],\n",
              " 441832: [14690, 15659],\n",
              " 445559: [2325, 13816, 1546, 13972],\n",
              " 446011: [6196],\n",
              " 446676: [4887],\n",
              " 446739: [4238, 12914],\n",
              " 448511: [3985],\n",
              " 448812: [4267],\n",
              " 452084: [13816, 13813, 13817, 13815, 14011, 14011, 13986, 13965],\n",
              " 456028: [10952, 7647],\n",
              " 458939: [12960, 12899],\n",
              " 460686: [5198, 5199],\n",
              " 463179: [12893, 10734],\n",
              " 463412: [12791, 14024],\n",
              " 467661: [13537, 5234, 14026, 12810],\n",
              " 470672: [12267],\n",
              " 471204: [2996, 9254, 15019, 9297],\n",
              " 472031: [15791],\n",
              " 472279: [12512],\n",
              " 473307: [2684, 4286, 7728],\n",
              " 473606: [12486],\n",
              " 476967: [13986, 14011, 13965, 2922, 13988],\n",
              " 476981: [9269],\n",
              " 477773: [343],\n",
              " 479172: [12897, 12960, 12958],\n",
              " 480299: [3844, 441, 3575],\n",
              " 481214: [13678],\n",
              " 482611: [4223],\n",
              " 483244: [8889],\n",
              " 483777: [8889],\n",
              " 484567: [10781, 10781],\n",
              " 486263: [14015, 14011],\n",
              " 487561: [12268, 12253],\n",
              " 488141: [4238],\n",
              " 488911: [3362, 8640],\n",
              " 489491: [13816, 13817],\n",
              " 489671: [13671, 13671, 13671],\n",
              " 491219: [13850],\n",
              " 491736: [14088, 13811],\n",
              " 492363: [2053],\n",
              " 492819: [13852],\n",
              " 496003: [12360],\n",
              " 496933: [12902],\n",
              " 497436: [14085, 14085],\n",
              " 499877: [16420, 16412],\n",
              " 501527: [14085, 5700, 15661, 15659, 13970],\n",
              " 502918: [13682],\n",
              " 505106: [13813, 13813],\n",
              " 506496: [14084, 14084, 14085, 2367],\n",
              " 510063: [14268],\n",
              " 510144: [977],\n",
              " 511682: [16391],\n",
              " 516839: [13838, 13824],\n",
              " 522968: [1950],\n",
              " 523179: [12780],\n",
              " 523616: [9765],\n",
              " 523856: [16042],\n",
              " 525772: [11995],\n",
              " 525857: [14266],\n",
              " 528754: [8991],\n",
              " 529859: [14054, 14055],\n",
              " 530179: [13820, 13811],\n",
              " 534599: [13804, 12486, 14046, 12383, 13782],\n",
              " 537107: [9110, 13969, 13967, 13740],\n",
              " 537548: [15176],\n",
              " 540604: [15660],\n",
              " 541089: [5356],\n",
              " 541756: [10917, 13992],\n",
              " 544846: [13838],\n",
              " 545092: [9457, 16860, 16412],\n",
              " 546013: [1992],\n",
              " 549136: [11186, 11200, 14091],\n",
              " 550847: [16042, 10076],\n",
              " 553203: [12252, 12252, 12258],\n",
              " 553306: [9399, 8956, 8956, 9399],\n",
              " 558932: [13110],\n",
              " 560902: [14265, 14083, 14091],\n",
              " 562739: [410, 410],\n",
              " 564282: [14088, 14089],\n",
              " 566017: [13677, 13677],\n",
              " 567827: [14033, 14091],\n",
              " 569389: [5390],\n",
              " 571197: [14084],\n",
              " 572453: [2315, 2331, 3426],\n",
              " 572511: [16346, 16500],\n",
              " 574467: [11995, 11995],\n",
              " 577249: [13828, 6144],\n",
              " 579243: [11518, 11382, 770],\n",
              " 582102: [376],\n",
              " 585099: [3993],\n",
              " 586406: [11677, 11675],\n",
              " 587411: [12258],\n",
              " 587832: [12253],\n",
              " 588458: [12260],\n",
              " 588787: [9835],\n",
              " 590151: [14027, 12826, 7214, 12383],\n",
              " 590697: [11031, 11031],\n",
              " 591052: [13689, 13689],\n",
              " 594087: [13454, 13840],\n",
              " 594661: [13143, 11417],\n",
              " 595793: [12232],\n",
              " 596653: [13862, 14031, 14033, 14027],\n",
              " 597733: [13813, 13816, 13815],\n",
              " 597994: [12211, 15654],\n",
              " 598349: [14199, 14048, 3026, 12202, 3490, 3490, 12193, 12188, 12207],\n",
              " 599287: [13971, 13969],\n",
              " 605941: [16427],\n",
              " 607649: [14693, 13800],\n",
              " 608719: [13824, 12383, 12810, 13670, 12518, 12723],\n",
              " 609788: [13839, 13823, 13824],\n",
              " 611642: [13338],\n",
              " 616894: [14027, 13731],\n",
              " 618196: [13748],\n",
              " 618656: [14902, 14079, 14053, 14081, 14082, 9009, 14048, 14199],\n",
              " 621736: [13816, 13816],\n",
              " 622232: [6672],\n",
              " 623548: [14203, 13813],\n",
              " 623654: [13823, 13823],\n",
              " 625397: [13827, 13822, 13822, 13827],\n",
              " 625823: [4238],\n",
              " 626218: [13969, 14994],\n",
              " 626573: [14027, 14046, 14031, 13862, 14031, 14027],\n",
              " 628053: [16201],\n",
              " 631077: [13828],\n",
              " 631366: [15660, 3126, 15653, 15661, 15659],\n",
              " 631639: [4413],\n",
              " 632983: [13988, 13965, 14015],\n",
              " 634152: [14692],\n",
              " 635213: [14199, 14199, 11980],\n",
              " 635299: [13822, 11382, 13562],\n",
              " 636986: [16072, 16070, 13838],\n",
              " 640533: [16042, 16240],\n",
              " 641813: [13828],\n",
              " 644397: [2278, 14004, 2278, 14004],\n",
              " 645702: [16268],\n",
              " 646832: [8417],\n",
              " 647687: [6464, 13560],\n",
              " 648739: [14089, 9225, 14266],\n",
              " 648948: [13632, 12912, 10290],\n",
              " 649002: [2097],\n",
              " 649628: [56],\n",
              " 650204: [5700, 14083],\n",
              " 654654: [5735, 3578],\n",
              " 655734: [14089, 2135, 14089, 2135],\n",
              " 664182: [14027, 6381, 4555],\n",
              " 664846: [13986, 14923],\n",
              " 667066: [11546],\n",
              " 667389: [14046, 14031, 14027],\n",
              " 671599: [13665, 13669],\n",
              " 672041: [13800, 13573, 12904],\n",
              " 672352: [12902, 12959],\n",
              " 675263: [13691],\n",
              " 677022: [2668, 977, 6428, 2547],\n",
              " 677912: [1051, 4525, 2857],\n",
              " 678981: [5199],\n",
              " 679087: [9067, 13372, 13221],\n",
              " 679949: [4354, 4354],\n",
              " 681248: [13971, 13967, 14268, 13968, 16164, 14259],\n",
              " 683639: [12992, 13942],\n",
              " 684068: [13824, 13827, 17083, 13839, 13824, 13827, 13839, 17083],\n",
              " 684558: [13665, 14039, 12149, 14024],\n",
              " 685528: [8956, 8956],\n",
              " 687696: [14082,\n",
              "  14199,\n",
              "  14048,\n",
              "  14091,\n",
              "  14053,\n",
              "  3848,\n",
              "  11980,\n",
              "  14081,\n",
              "  14079,\n",
              "  14902,\n",
              "  14902,\n",
              "  14082,\n",
              "  14199,\n",
              "  14048,\n",
              "  14091,\n",
              "  14079,\n",
              "  14053,\n",
              "  14902,\n",
              "  14902,\n",
              "  3848,\n",
              "  11980,\n",
              "  14081],\n",
              " 688677: [1768, 5180],\n",
              " 694313: [12913],\n",
              " 694761: [14084, 13856, 14085],\n",
              " 695116: [4238],\n",
              " 695147: [4239],\n",
              " 695776: [8995],\n",
              " 696617: [13551, 2310],\n",
              " 697709: [14333],\n",
              " 698724: [13679],\n",
              " 699141: [10552, 9571],\n",
              " 699508: [11579],\n",
              " 705074: [375],\n",
              " 706698: [12113, 14046, 12383, 12912],\n",
              " 706699: [9241],\n",
              " 707079: [11953, 14080, 12797],\n",
              " 708779: [6683, 9195],\n",
              " 708928: [13816],\n",
              " 709489: [14090, 13740],\n",
              " 710244: [2263],\n",
              " 713189: [12254],\n",
              " 714112: [16416, 16411, 16397, 16427],\n",
              " 720422: [14199, 14048, 13838],\n",
              " 721932: [13627, 1215, 13988, 15981],\n",
              " 725051: [5251],\n",
              " 727601: [13678, 13678],\n",
              " 729226: [16042],\n",
              " 730308: [12267],\n",
              " 730527: [13856, 14085],\n",
              " 731793: [8894, 6445],\n",
              " 732911: [13823],\n",
              " 732971: [13822, 13823],\n",
              " 733843: [12558],\n",
              " 734488: [2570],\n",
              " 736806: [13828, 17083],\n",
              " 737843: [10929, 3868],\n",
              " 739624: [14085, 12227],\n",
              " 739826: [13859, 13859, 13780, 10791, 10906, 12671, 12492],\n",
              " 740752: [5221],\n",
              " 742357: [11382, 12508],\n",
              " 746527: [12560],\n",
              " 748854: [13823],\n",
              " 752348: [7502, 2371, 1457],\n",
              " 756632: [13501, 13565, 13493, 1020, 3123],\n",
              " 757116: [1104],\n",
              " 765684: [14902],\n",
              " 768353: [12267],\n",
              " 770326: [9468, 16656],\n",
              " 771664: [13823],\n",
              " 772446: [2545],\n",
              " 773194: [13813],\n",
              " 773778: [12235],\n",
              " 774249: [13852],\n",
              " 775031: [8956, 16597, 16818, 16597, 16818, 8956],\n",
              " 777389: [1413],\n",
              " 778536: [13824],\n",
              " 779433: [14015],\n",
              " 779547: [2292, 2161, 2287],\n",
              " 780062: [13823, 13823],\n",
              " 780808: [13631, 13736, 9992, 13631, 13723],\n",
              " 783148: [13825, 13822],\n",
              " 783599: [14040, 13791],\n",
              " 784202: [13823],\n",
              " 787042: [13817, 14331],\n",
              " 787052: [12438, 14085],\n",
              " 787246: [12232, 12232],\n",
              " 792402: [12723],\n",
              " 792918: [14274, 14223, 2552, 12843, 7833, 14274, 14223, 12843, 2552, 7833],\n",
              " 793508: [6038],\n",
              " 794318: [10755],\n",
              " 795076: [13965, 13988, 12257],\n",
              " 796793: [15661, 15659, 15924, 13862, 6381],\n",
              " 798067: [5251],\n",
              " 802356: [13823],\n",
              " 807541: [13825],\n",
              " 809958: [216],\n",
              " 811707: [14083, 14083],\n",
              " 812421: [14027, 4476, 13862],\n",
              " 813496: [14078],\n",
              " 813637: [13813, 13813, 13816, 13817],\n",
              " 816241: [15734, 14085],\n",
              " 817009: [14360, 16030],\n",
              " 817081: [10971, 10969, 10968, 10967],\n",
              " 825851: [9067, 3989, 3989, 9067],\n",
              " 831707: [12294],\n",
              " 831984: [13338],\n",
              " 833016: [4268],\n",
              " 834009: [13813],\n",
              " 837024: [14015],\n",
              " 837142: [13823, 13823],\n",
              " 837333: [1541, 14266],\n",
              " 837678: [14081, 3490],\n",
              " 838497: [12504, 6464],\n",
              " 839484: [14231],\n",
              " 840161: [16042, 16241, 16242, 16240, 16042, 16241, 16242, 16240],\n",
              " 840628: [3250, 3250, 7169],\n",
              " 841118: [8889, 13825],\n",
              " 845652: [7193],\n",
              " 846787: [2687, 13968, 9457, 13969, 13968],\n",
              " 846917: [13968, 14085],\n",
              " 848304: [13822, 13823, 14265, 14203],\n",
              " 849249: [14039, 14024, 13820],\n",
              " 849736: [4543, 10845],\n",
              " 851413: [13822, 14054],\n",
              " 851564: [13862, 16100, 14196, 13731, 14078],\n",
              " 854146: [13636],\n",
              " 856689: [13805],\n",
              " 857202: [13823, 13824],\n",
              " 859203: [5344, 5344],\n",
              " 861257: [11539, 11540, 437, 11539, 11540, 437],\n",
              " 861731: [6512],\n",
              " 861928: [15592],\n",
              " 864679: [12330, 13862, 12225],\n",
              " 864879: [13828],\n",
              " 865703: [13828, 13822, 13823],\n",
              " 870926: [13823, 13822],\n",
              " 872079: [13827],\n",
              " 872332: [14053],\n",
              " 873289: [13839, 13825, 14222],\n",
              " 873586: [3941, 13570],\n",
              " 874104: [1287],\n",
              " 874572: [1287, 1287],\n",
              " 882592: [13455, 12912, 12610, 13537, 14094, 13632],\n",
              " 883662: [11211],\n",
              " 883819: [15653, 9358, 15659, 15924, 15661],\n",
              " 883909: [2323],\n",
              " 885063: [14039, 14024],\n",
              " 889281: [14762, 5571, 17144, 4238],\n",
              " 889477: [14083, 14000, 14000, 14083],\n",
              " 890253: [9971, 9971],\n",
              " 890273: [13968, 13971],\n",
              " 890716: [14266, 14088],\n",
              " 891871: [14048, 14199, 15659, 12193, 17083, 2515],\n",
              " 894636: [14265, 5700, 14265, 5700, 14265, 5700],\n",
              " 898714: [9062],\n",
              " 899332: [12881, 13973, 13729, 12364, 8096, 12354],\n",
              " 899853: [11517, 7842, 9137],\n",
              " 908233: [15904, 9370, 14231],\n",
              " 920332: [13498],\n",
              " 922157: [8889],\n",
              " 925381: [12201, 12200],\n",
              " 928356: [16042],\n",
              " 929724: [15661, 15924, 15660, 15659, 15653, 15658],\n",
              " 930269: [13823, 13822, 13822, 13823],\n",
              " 933423: [9336],\n",
              " 934768: [13632],\n",
              " 936176: [1768, 8605],\n",
              " 938391: [13823, 13825, 13838],\n",
              " 939578: [14031,\n",
              "  16645,\n",
              "  13782,\n",
              "  13859,\n",
              "  13537,\n",
              "  3283,\n",
              "  14225,\n",
              "  14207,\n",
              "  14064,\n",
              "  12912,\n",
              "  13973,\n",
              "  13736,\n",
              "  12719,\n",
              "  2614],\n",
              " 940757: [4235],\n",
              " 941648: [12826, 14225, 14078, 10981, 14268, 12107, 13632],\n",
              " 943237: [14336, 14335],\n",
              " 944863: [13782, 13780, 13780, 13754, 5203],\n",
              " 946354: [152],\n",
              " 947906: [13856, 8823],\n",
              " 949897: [13816, 13813],\n",
              " 951851: [14890],\n",
              " 952257: [14950],\n",
              " 952307: [11995],\n",
              " 954739: [15185, 14231, 14235],\n",
              " 957212: [13823, 13823],\n",
              " 957621: [14222, 14217],\n",
              " 961234: [13960, 14284, 4476],\n",
              " 964362: [4238],\n",
              " 964403: [13404, 13567, 12723, 13861, 12912, 14908, 14882, 14909],\n",
              " 964658: [1992, 1992],\n",
              " 966716: [8605],\n",
              " 968111: [16100, 4476, 12912, 4559],\n",
              " 968713: [14217, 14222, 14205],\n",
              " 972662: [8606, 12900, 12900, 8606],\n",
              " 972917: [14265],\n",
              " 973798: [13823, 13825, 13822],\n",
              " 974867: [14083],\n",
              " 975791: [1286],\n",
              " 975833: [7717],\n",
              " 977776: [14269, 14272],\n",
              " 979497: [5298],\n",
              " 981536: [8409],\n",
              " 984226: [14268, 16100, 13781, 13780, 14275],\n",
              " 988842: [13825, 13838, 13823, 13838, 13825, 13823],\n",
              " 991389: [14052, 9298, 13960],\n",
              " 992574: [13822, 13827, 13825, 14081],\n",
              " 993151: [13573, 13803],\n",
              " 993379: [5268],\n",
              " 994721: [1092, 11539, 12422],\n",
              " 995523: [14206, 14235],\n",
              " 997234: [14762, 270],\n",
              " 998687: [3125, 13862, 14046],\n",
              " 1001278: [14908, 13577, 13971, 14882, 13803, 14284, 13082],\n",
              " 1002271: [14691],\n",
              " 1006869: [1632],\n",
              " 1012718: [14083, 1406],\n",
              " 1014966: [16389],\n",
              " 1018319: [3026, 2820, 3238, 9011, 12207],\n",
              " 1019224: [9067],\n",
              " 1020822: [2261],\n",
              " 1021156: [13825, 13823, 13825, 13823],\n",
              " 1026056: [13823, 8896],\n",
              " 1028951: [14087, 14762],\n",
              " 1028974: [17199, 14092, 14591],\n",
              " 1030748: [13828, 13823, 13838],\n",
              " 1031953: [2901, 677],\n",
              " 1033294: [15950],\n",
              " 1034343: [14076, 14052, 14052, 13953],\n",
              " 1036209: [13813],\n",
              " 1037224: [13782, 16100, 14014, 9561, 14269, 14272],\n",
              " 1038979: [2570],\n",
              " 1039261: [13828, 13839],\n",
              " 1039916: [4529],\n",
              " 1040711: [16042],\n",
              " 1042072: [14336, 14203],\n",
              " 1042573: [7443],\n",
              " 1043108: [10737],\n",
              " 1043173: [16707],\n",
              " 1044326: [13609],\n",
              " 1046047: [14013, 14193, 14334],\n",
              " 1053833: [13828, 13839],\n",
              " 1053868: [2224, 2231],\n",
              " 1054062: [11385],\n",
              " 1056812: [2626, 12267],\n",
              " 1056966: [16427, 16404],\n",
              " 1058127: [3842, 13848],\n",
              " 1061139: [4369],\n",
              " 1064341: [4602],\n",
              " 1066359: [4025],\n",
              " 1066943: [6382, 7836],\n",
              " 1067896: [5193, 11206],\n",
              " 1068996: [4055, 14085, 5700],\n",
              " 1070789: [12899],\n",
              " 1072533: [388],\n",
              " 1073364: [14908],\n",
              " 1078069: [16042],\n",
              " 1079146: [13679, 12201],\n",
              " 1081044: [13823, 13822, 13822, 13823],\n",
              " 1082877: [17020],\n",
              " 1084508: [10064],\n",
              " 1085192: [11536],\n",
              " 1089762: [14201, 14235],\n",
              " 1092017: [2260],\n",
              " 1092039: [10905, 12843],\n",
              " 1094614: [12842, 3985, 11995],\n",
              " 1095243: [13557, 6545],\n",
              " 1097381: [5221],\n",
              " 1101999: [5180, 13974, 10923],\n",
              " 1104232: [6615, 6615],\n",
              " 1105228: [13859, 13779, 13782],\n",
              " 1106341: [14229],\n",
              " 1107004: [12455, 13800, 13597, 4042],\n",
              " 1108214: [13839, 13828],\n",
              " 1112761: [11252],\n",
              " 1115834: [11995],\n",
              " 1123012: [1528, 1531, 1530],\n",
              " 1125239: [2552],\n",
              " 1126969: [13551],\n",
              " 1127561: [2258, 5674, 5668, 5676, 13825],\n",
              " 1128688: [14266],\n",
              " 1129263: [8032],\n",
              " 1131164: [12201, 12200],\n",
              " 1135644: [13825, 13822, 13823],\n",
              " 1135699: [10538],\n",
              " 1137587: [14083],\n",
              " 1138786: [12959],\n",
              " 1142834: [11542],\n",
              " 1145729: [10859],\n",
              " 1147053: [4476, 1287],\n",
              " 1147932: [13822],\n",
              " 1148139: [2073, 10917],\n",
              " 1150236: [13823],\n",
              " 1151242: [4118],\n",
              " 1151344: [13823, 13825, 13688],\n",
              " 1153151: [17091, 12207, 16462],\n",
              " 1157127: [3125],\n",
              " 1157667: [9269],\n",
              " 1161201: [4413, 4413],\n",
              " 1161621: [13825, 13823, 16487],\n",
              " 1162583: [14231],\n",
              " 1165452: [283],\n",
              " 1165966: [13813, 13813],\n",
              " 1173374: [9483, 12508],\n",
              " 1175231: [2200, 3334],\n",
              " 1175294: [1877, 9524, 9512, 16843],\n",
              " 1175334: [14268, 14909, 10866],\n",
              " 1175461: [5700],\n",
              " 1180771: [6045],\n",
              " 1181527: [13624],\n",
              " 1182557: [8288],\n",
              " 1182829: [13738],\n",
              " 1182831: [13591, 784],\n",
              " 1183866: [10997, 15122],\n",
              " 1185874: [14268],\n",
              " 1191853: [5198, 5199],\n",
              " 1191876: [14223, 14267, 14274],\n",
              " 1192516: [13837, 12716],\n",
              " 1192853: [7826, 14225, 2935, 5234, 4555],\n",
              " 1195063: [4243, 13966, 14882, 14909],\n",
              " 1199632: [6269, 14265],\n",
              " 1200769: [1504],\n",
              " 1203011: [2324],\n",
              " 1209098: [17414],\n",
              " 1210184: [5700],\n",
              " 1215198: [14760, 16100, 14268, 13782, 13780],\n",
              " 1215351: [13723],\n",
              " 1219656: [14201, 11995],\n",
              " 1222663: [14678,\n",
              "  14620,\n",
              "  14618,\n",
              "  14627,\n",
              "  14619,\n",
              "  14675,\n",
              "  14629,\n",
              "  14628,\n",
              "  14634,\n",
              "  14635],\n",
              " 1223009: [14268, 13736],\n",
              " 1225102: [13966, 14908, 13829],\n",
              " 1225981: [2319, 2322, 2293, 3426, 2288, 2289],\n",
              " 1226343: [12201],\n",
              " 1226948: [12013],\n",
              " 1227208: [13823, 13828],\n",
              " 1227511: [4235, 9056, 15262, 16609],\n",
              " 1229892: [13820],\n",
              " 1230674: [13824, 17083],\n",
              " 1232798: [14169, 5660],\n",
              " 1232894: [3199, 13572, 7179],\n",
              " 1233014: [12254],\n",
              " 1234512: [13736, 13735, 14882],\n",
              " 1234837: [12901],\n",
              " 1236477: [396],\n",
              " 1238229: [13813],\n",
              " 1238528: [11995, 3985, 3989],\n",
              " 1238796: [13688, 13679, 13960, 13867],\n",
              " 1245438: [876],\n",
              " 1246284: [13997, 5700],\n",
              " 1246737: [13597, 4100, 4042, 13493, 2941],\n",
              " 1246822: [0],\n",
              " 1247423: [10570, 14032, 13861, 12496],\n",
              " 1249612: [12349],\n",
              " 1252699: [14222, 14217],\n",
              " 1255306: [8606],\n",
              " 1255839: [5700],\n",
              " 1256256: [16737],\n",
              " 1257036: [13824, 13838],\n",
              " 1257698: [1262, 1268, 1009, 242],\n",
              " 1257958: [5356],\n",
              " 1260919: [3164],\n",
              " 1260956: [14611, 14014, 14670, 14606, 14637],\n",
              " 1261446: [13825, 13828, 13827, 13823, 13827, 13828, 13823, 13825],\n",
              " 1262673: [14336],\n",
              " 1262926: [628],\n",
              " 1266216: [4357, 13823],\n",
              " 1266597: [4055],\n",
              " 1266993: [11995, 3985],\n",
              " 1271356: [13823],\n",
              " 1271834: [8956],\n",
              " 1275363: [6701],\n",
              " 1281179: [14284, 14909, 12810, 13735, 13731, 16119, 13733, 13736],\n",
              " 1285503: [8889],\n",
              " 1286224: [14274, 17048],\n",
              " 1286562: [14269, 14206],\n",
              " 1289997: [17096, 17116, 17116, 17096],\n",
              " 1291759: [1992, 11192],\n",
              " 1291846: [3125],\n",
              " 1293786: [12838],\n",
              " 1294016: [14285, 14268, 14286, 14288],\n",
              " 1299544: [8076, 8076],\n",
              " 1300609: [11405],\n",
              " 1302189: [2324],\n",
              " 1303591: [2989],\n",
              " 1303604: [4476],\n",
              " 1305627: [14288, 14288],\n",
              " 1306142: [14200],\n",
              " 1307053: [5687, 13838, 19],\n",
              " 1311339: [7667],\n",
              " 1313566: [14285, 6522],\n",
              " 1315506: [14285],\n",
              " 1319851: [5067],\n",
              " 1327284: [14194, 14194],\n",
              " 1329241: [13781, 13782, 16100],\n",
              " 1330633: [17107],\n",
              " 1332321: [5343],\n",
              " 1332924: [11518, 14909],\n",
              " 1338418: [17200],\n",
              " 1341883: [3729, 3729],\n",
              " 1347142: [16487],\n",
              " 1347982: [9468, 9428, 16838],\n",
              " 1352072: [12360, 2421],\n",
              " 1354228: [17115],\n",
              " 1354498: [16344],\n",
              " 1354757: [13989, 14909],\n",
              " 1355912: [14083],\n",
              " 1356403: [16949, 16907, 16596],\n",
              " 1358172: [12881, 16295, 11231],\n",
              " 1358583: [16397,\n",
              "  16934,\n",
              "  16420,\n",
              "  8626,\n",
              "  15992,\n",
              "  8626,\n",
              "  16939,\n",
              "  16397,\n",
              "  16420,\n",
              "  15992,\n",
              "  16939,\n",
              "  16934,\n",
              "  17092,\n",
              "  17092,\n",
              "  16397,\n",
              "  16939,\n",
              "  8626,\n",
              "  16420,\n",
              "  15992,\n",
              "  16934,\n",
              "  17092],\n",
              " 1358612: [14286, 13954, 15189],\n",
              " 1360611: [16391],\n",
              " 1361927: [2901, 10793],\n",
              " 1365166: [16100, 5678],\n",
              " 1366611: [14375],\n",
              " 1369281: [9502, 16469, 9502, 16469],\n",
              " 1372538: [9],\n",
              " 1372827: [12719,\n",
              "  14372,\n",
              "  10290,\n",
              "  13526,\n",
              "  2490,\n",
              "  13569,\n",
              "  13456,\n",
              "  12719,\n",
              "  14372,\n",
              "  10290,\n",
              "  13526,\n",
              "  2490,\n",
              "  13456,\n",
              "  13569],\n",
              " 1375507: [14191],\n",
              " 1381233: [14205, 10393],\n",
              " 1381846: [14909, 13966, 13867, 4355],\n",
              " 1382166: [14835],\n",
              " 1382517: [4169],\n",
              " 1385384: [4007],\n",
              " 1385967: [5346],\n",
              " 1386554: [14908, 14909, 13966],\n",
              " 1387523: [14375, 13984],\n",
              " 1391357: [14288, 9834, 4460, 14746, 14218, 14690, 14692, 14304],\n",
              " 1391782: [14908, 13966, 14882, 13966, 14909, 14882, 14278, 13960, 14194],\n",
              " 1391957: [12391],\n",
              " 1393129: [14909, 14908, 12383, 14909, 14908, 12383],\n",
              " 1393968: [14189, 2027, 16384, 13830],\n",
              " 1394442: [12671, 3250, 12671, 3250],\n",
              " 1397054: [15391],\n",
              " 1399231: [841],\n",
              " 1405957: [14268, 5234],\n",
              " 1406226: [12507, 14194, 14909, 3468, 3467],\n",
              " 1407456: [14222, 14217],\n",
              " 1410529: [14906],\n",
              " 1411286: [14189],\n",
              " 1412437: [4314],\n",
              " 1414509: [3597],\n",
              " 1414566: [12232, 12231],\n",
              " 1418609: [14273, 1543],\n",
              " 1418619: [4238, 1399, 2831, 4283],\n",
              " 1419594: [4286, 14304, 14303],\n",
              " 1420249: [14882, 14909],\n",
              " 1422411: [4235],\n",
              " 1423833: [15090],\n",
              " 1424019: [16638, 9062],\n",
              " 1424069: [13966, 14909, 14908],\n",
              " 1424364: [14194, 9834, 13866, 14909],\n",
              " 1424849: [13635, 14909, 13966, 13836],\n",
              " 1426397: [13966, 14909],\n",
              " 1427984: [13836],\n",
              " 1428369: [463, 463],\n",
              " 1431576: [10905, 13557],\n",
              " 1432276: [14907],\n",
              " 1435339: [14909, 13966],\n",
              " 1437233: [7955],\n",
              " 1438313: [13988],\n",
              " 1439748: [11263, 11382],\n",
              " 1440946: [9161, 1251],\n",
              " 1442774: [14906],\n",
              " 1445273: [13818],\n",
              " 1449601: [16345],\n",
              " 1450532: [4132, 1202],\n",
              " 1452693: [4460, 13836, 14909, 13954],\n",
              " 1454342: [6227],\n",
              " 1456618: [4476, 12157],\n",
              " 1459747: [9004, 14019, 10723, 12713],\n",
              " 1459927: [13866, 16100],\n",
              " 1460198: [14908, 14909, 14909, 14908],\n",
              " 1460323: [5674,\n",
              "  12714,\n",
              "  13643,\n",
              "  14024,\n",
              "  14065,\n",
              "  7338,\n",
              "  8990,\n",
              "  12028,\n",
              "  7145,\n",
              "  13569,\n",
              "  7144,\n",
              "  12027,\n",
              "  12026,\n",
              "  190],\n",
              " 1463706: [14203, 14203, 14203, 14203],\n",
              " 1464933: [10048],\n",
              " 1468993: [14908, 13966, 14909],\n",
              " 1473907: [14286, 13867, 9514, 14286, 9514, 13867],\n",
              " 1475487: [16271, 16269],\n",
              " 1477591: [14278, 14882, 13960, 14909, 14278, 14882, 13960, 14909],\n",
              " 1479551: [13822],\n",
              " 1481656: [676],\n",
              " 1482626: [14284, 14908, 13866],\n",
              " 1482757: [2140],\n",
              " 1489531: [13966, 14909],\n",
              " 1489998: [13455],\n",
              " 1491947: [540],\n",
              " 1492547: [12898, 11517],\n",
              " 1495173: [14909, 13829, 13453],\n",
              " 1498052: [14909, 11382],\n",
              " 1499636: [2498, 3609],\n",
              " 1506466: [14201],\n",
              " 1506563: [14087, 9174, 3687],\n",
              " 1510023: [14732],\n",
              " 1516581: [1941],\n",
              " 1519191: [14906],\n",
              " 1519934: [14908, 14882, 14909, 13866],\n",
              " 1521264: [14908, 14909],\n",
              " 1521999: [13331,\n",
              "  16238,\n",
              "  2870,\n",
              "  11441,\n",
              "  1792,\n",
              "  10902,\n",
              "  15014,\n",
              "  13531,\n",
              "  3146,\n",
              "  11979,\n",
              "  2265],\n",
              " 1526834: [5526, 5264, 5526, 5264],\n",
              " 1527541: [14908],\n",
              " 1530887: [12568],\n",
              " 1532279: [14709, 14709, 14709, 14709],\n",
              " 1532511: [13817],\n",
              " 1535504: [13825],\n",
              " 1537016: [11516],\n",
              " 1537743: [13983, 14376, 3818, 13632],\n",
              " 1538123: [12457, 4311],\n",
              " 1538481: [14308, 16606, 13688, 13679, 13688, 14308, 13679, 16606],\n",
              " 1539006: [14909, 14278, 14908, 14194, 13966, 14882],\n",
              " 1540439: [14370, 5692, 14377],\n",
              " 1541301: [13562],\n",
              " 1541442: [12269],\n",
              " 1541681: [13836],\n",
              " 1543501: [9514, 14274, 10551],\n",
              " 1544581: [16839, 9512, 16817],\n",
              " 1544644: [14014],\n",
              " 1546431: [8148],\n",
              " 1546463: [14909, 13966],\n",
              " 1550322: [14231],\n",
              " 1550739: [13557],\n",
              " 1552973: [14309],\n",
              " 1553521: [14278, 12722, 3748],\n",
              " 1554429: [5198, 5199],\n",
              " 1557062: [1515],\n",
              " 1557743: [12258, 12259],\n",
              " 1558297: [4300],\n",
              " 1563959: [13825],\n",
              " 1566226: [13966, 14909, 14278, 14077, 13843, 13865, 14908, 14882],\n",
              " 1567239: [14270, 14270, 14270],\n",
              " 1573058: [9022, 2887],\n",
              " 1577606: [14194, 14906],\n",
              " 1584162: [4476, 14268],\n",
              " 1585873: [14909, 13966, 14909],\n",
              " 1586239: [10924],\n",
              " 1596262: [13676, 13676],\n",
              " 1596372: [15190, 13985, 14904, 9443, 16794, 16792],\n",
              " 1598006: [15280],\n",
              " 1599287: [12390],\n",
              " 1600271: [7672],\n",
              " 1602862: [11382, 202, 14281],\n",
              " 1602886: [14969],\n",
              " 1602924: [5268],\n",
              " 1608737: [12543],\n",
              " 1609401: [13966, 13866, 14909, 13867, 13960, 14460],\n",
              " 1610992: [5770],\n",
              " 1611562: [13966, 14303, 14302, 14909],\n",
              " 1617777: [6254],\n",
              " 1618073: [18, 8889, 18, 8889],\n",
              " 1618726: [10003],\n",
              " 1618754: [16441],\n",
              " 1620507: [14288, 14963],\n",
              " 1629947: [14278, 14909, 7180, 11518, 14908],\n",
              " 1632929: [4268, 4374, 13633, 10905],\n",
              " 1634784: [14370, 14376, 14376, 14370],\n",
              " 1635439: [6098],\n",
              " 1638611: [14908, 14909],\n",
              " 1639356: [14017, 14017],\n",
              " 1641471: [6738],\n",
              " 1642447: [17105],\n",
              " 1648427: [14908, 13966, 14278, 14909, 12508, 10866],\n",
              " 1649499: [5180],\n",
              " 1650542: [13747],\n",
              " 1650811: [14338],\n",
              " 1651739: [13836, 14963],\n",
              " 1653303: [8608, 8608],\n",
              " 1655121: [13813],\n",
              " 1655197: [14079,\n",
              "  14053,\n",
              "  12117,\n",
              "  14304,\n",
              "  13858,\n",
              "  13966,\n",
              "  14902,\n",
              "  15660,\n",
              "  14081,\n",
              "  8354,\n",
              "  14053,\n",
              "  14304,\n",
              "  14079,\n",
              "  14081,\n",
              "  13966,\n",
              "  14902,\n",
              "  12117,\n",
              "  8354,\n",
              "  15660,\n",
              "  13858],\n",
              " 1657604: [14375, 14370, 14377, 14744, 14320],\n",
              " 1663779: [12412],\n",
              " 1664362: [13338, 14223, 14274],\n",
              " 1665372: [13966, 14909],\n",
              " 1666988: [11230, 13639, 3414],\n",
              " 1670197: [14338],\n",
              " 1670831: [14278, 4275, 4275, 14278, 4275, 14278],\n",
              " 1671752: [14909, 13966, 14278, 14192],\n",
              " 1673383: [16391],\n",
              " 1675762: [11995, 14200],\n",
              " 1676516: [14269],\n",
              " 1677874: [14693, 14278, 13803],\n",
              " 1678726: [16295, 15929],\n",
              " 1680706: [13966, 10866, 14284, 14908],\n",
              " 1683503: [14288, 13866, 13953, 14288],\n",
              " 1683519: [13966, 14909, 13960],\n",
              " 1684999: [14908, 13966, 14882, 14908, 13966, 14882],\n",
              " 1686589: [16500],\n",
              " 1690711: [10929, 10929],\n",
              " 1691882: [14231, 14220],\n",
              " 1692087: [13796, 14235],\n",
              " 1694197: [14909, 13966],\n",
              " 1694476: [13836, 14017],\n",
              " 1698484: [14909, 13966, 6683, 14283],\n",
              " 1699464: [11385, 6809, 10058],\n",
              " 1700783: [14760],\n",
              " 1700801: [14908, 14909, 13954],\n",
              " 1702029: [14909, 13966],\n",
              " 1706378: [8956, 4486],\n",
              " 1706896: [13688, 13679],\n",
              " 1710366: [2613, 3056, 14083],\n",
              " 1711881: [13839, 13973],\n",
              " 1712399: [2068],\n",
              " 1714093: [14338, 13966, 13866, 14908],\n",
              " 1717318: [12383, 14908, 14033, 14198, 13733, 13966],\n",
              " 1718407: [13557, 4394],\n",
              " ...}"
            ]
          },
          "metadata": {},
          "execution_count": 12
        }
      ],
      "source": [
        "# Get item dictionary with grouping by session\n",
        "buy_item_dict = dict(buy_df.groupby('session_id')['item_id'].apply(list))\n",
        "buy_item_dict"
      ]
    },
    {
      "cell_type": "markdown",
      "metadata": {
        "id": "TmAIvMxdqULc"
      },
      "source": [
        "### Сборка выборки для обучения"
      ]
    },
    {
      "cell_type": "code",
      "execution_count": 13,
      "metadata": {
        "id": "RP25OdIWvpk6"
      },
      "outputs": [],
      "source": [
        "# Transform df into tensor data\n",
        "def transform_dataset(df, buy_item_dict):\n",
        "    data_list = []\n",
        "\n",
        "    # Group by session\n",
        "    grouped = df.groupby('session_id')\n",
        "    for session_id, group in tqdm(grouped):    \n",
        "        le = LabelEncoder()\n",
        "        sess_item_id = le.fit_transform(group.item_id)\n",
        "        group = group.reset_index(drop=True)\n",
        "        group['sess_item_id'] = sess_item_id\n",
        "\n",
        "        #get input features\n",
        "        node_features = group.loc[group.session_id==session_id,\n",
        "                                    ['sess_item_id','item_id','category']].sort_values('sess_item_id')[['item_id','category']].drop_duplicates().values\n",
        "        node_features = torch.LongTensor(node_features).unsqueeze(1)\n",
        "        target_nodes = group.sess_item_id.values[1:]\n",
        "        source_nodes = group.sess_item_id.values[:-1]\n",
        "\n",
        "        edge_index = torch.tensor([source_nodes,\n",
        "                                target_nodes], dtype=torch.long)\n",
        "        x = node_features\n",
        "\n",
        "        #get result\n",
        "        if session_id in buy_item_dict:\n",
        "            positive_indices = le.transform(buy_item_dict[session_id])\n",
        "            label = np.zeros(len(node_features))\n",
        "            label[positive_indices] = 1\n",
        "        else:\n",
        "            label = [0] * len(node_features)\n",
        "\n",
        "        y = torch.FloatTensor(label)\n",
        "\n",
        "        data = Data(x=x, edge_index=edge_index, y=y)\n",
        "\n",
        "        data_list.append(data)\n",
        "    \n",
        "    return data_list\n",
        "\n",
        "# Pytorch class for creating datasets\n",
        "class YooChooseDataset(InMemoryDataset):\n",
        "    def __init__(self, root, transform=None, pre_transform=None):\n",
        "        super(YooChooseDataset, self).__init__(root, transform, pre_transform)\n",
        "        self.data, self.slices = torch.load(self.processed_paths[0])\n",
        "\n",
        "    @property\n",
        "    def raw_file_names(self):\n",
        "        return []\n",
        "\n",
        "    @property\n",
        "    def processed_file_names(self):\n",
        "        return [BASE_DIR+'yoochoose_click_binary_100000_sess.dataset']\n",
        "\n",
        "    def download(self):\n",
        "        pass\n",
        "    \n",
        "    def process(self):\n",
        "        data_list = transform_dataset(df, buy_item_dict)\n",
        "        \n",
        "        data, slices = self.collate(data_list)\n",
        "        torch.save((data, slices), self.processed_paths[0])"
      ]
    },
    {
      "cell_type": "code",
      "execution_count": 14,
      "metadata": {
        "id": "Tqy60yNSvpk7",
        "scrolled": true,
        "colab": {
          "base_uri": "https://localhost:8080/"
        },
        "outputId": "b406666b-96fa-4fec-bd2d-1b2fb99da8d4"
      },
      "outputs": [
        {
          "output_type": "stream",
          "name": "stderr",
          "text": [
            "Processing...\n",
            "  0%|          | 0/65000 [00:00<?, ?it/s]/usr/local/lib/python3.7/dist-packages/ipykernel_launcher.py:21: UserWarning: Creating a tensor from a list of numpy.ndarrays is extremely slow. Please consider converting the list to a single numpy.ndarray with numpy.array() before converting to a tensor. (Triggered internally at  ../torch/csrc/utils/tensor_new.cpp:210.)\n",
            "100%|██████████| 65000/65000 [03:34<00:00, 303.17it/s]\n",
            "Done!\n"
          ]
        }
      ],
      "source": [
        "# Prepare dataset\n",
        "dataset = YooChooseDataset('./')"
      ]
    },
    {
      "cell_type": "markdown",
      "metadata": {
        "id": "u_1Zs9NvGnl9"
      },
      "source": [
        "### Разделение выборки"
      ]
    },
    {
      "cell_type": "code",
      "execution_count": 15,
      "metadata": {
        "id": "7dSv_845vpk8",
        "colab": {
          "base_uri": "https://localhost:8080/"
        },
        "outputId": "9b8a44e9-6645-43d0-abf1-2f8d9bbec89c"
      },
      "outputs": [
        {
          "output_type": "execute_result",
          "data": {
            "text/plain": [
              "(52000, 6500, 6500)"
            ]
          },
          "metadata": {},
          "execution_count": 15
        }
      ],
      "source": [
        "# train_test_split\n",
        "dataset = dataset.shuffle()\n",
        "one_tenth_length = int(len(dataset) * 0.1)\n",
        "train_dataset = dataset[:one_tenth_length * 8]\n",
        "val_dataset = dataset[one_tenth_length*8:one_tenth_length * 9]\n",
        "test_dataset = dataset[one_tenth_length*9:]\n",
        "len(train_dataset), len(val_dataset), len(test_dataset)"
      ]
    },
    {
      "cell_type": "code",
      "execution_count": 16,
      "metadata": {
        "colab": {
          "base_uri": "https://localhost:8080/"
        },
        "id": "fX2R64sbvpk8",
        "outputId": "8e41d6ca-694f-4960-a40b-ef481404e568"
      },
      "outputs": [
        {
          "output_type": "stream",
          "name": "stderr",
          "text": [
            "/usr/local/lib/python3.7/dist-packages/torch_geometric/deprecation.py:12: UserWarning: 'data.DataLoader' is deprecated, use 'loader.DataLoader' instead\n",
            "  warnings.warn(out)\n"
          ]
        }
      ],
      "source": [
        "# Load dataset into PyG loaders \n",
        "batch_size= 512\n",
        "train_loader = DataLoader(train_dataset, batch_size=batch_size)\n",
        "val_loader = DataLoader(val_dataset, batch_size=batch_size)\n",
        "test_loader = DataLoader(test_dataset, batch_size=batch_size)"
      ]
    },
    {
      "cell_type": "code",
      "execution_count": 17,
      "metadata": {
        "id": "jd9yGefWvpk9",
        "colab": {
          "base_uri": "https://localhost:8080/"
        },
        "outputId": "2659c2f9-ddbe-44e0-8097-19d0fd3685ca"
      },
      "outputs": [
        {
          "output_type": "execute_result",
          "data": {
            "text/plain": [
              "(20034, 121)"
            ]
          },
          "metadata": {},
          "execution_count": 17
        }
      ],
      "source": [
        "# Load dataset into PyG loaders \n",
        "num_items = df.item_id.max() +1\n",
        "num_categories = df.category.max()+1\n",
        "num_items , num_categories"
      ]
    },
    {
      "cell_type": "markdown",
      "source": [
        "### Настройка модели для обучения"
      ],
      "metadata": {
        "id": "5W6ZJ5me56NG"
      }
    },
    {
      "cell_type": "code",
      "execution_count": 18,
      "metadata": {
        "id": "QxL-VRxvvpk9"
      },
      "outputs": [],
      "source": [
        "embed_dim = 128\n",
        "from torch_geometric.nn import GraphConv, TopKPooling, GatedGraphConv, SAGEConv, SGConv\n",
        "from torch_geometric.nn import global_mean_pool as gap, global_max_pool as gmp\n",
        "import torch.nn.functional as F\n",
        "\n",
        "class Net(torch.nn.Module):\n",
        "    def __init__(self):\n",
        "        super(Net, self).__init__()\n",
        "        # Model Structure\n",
        "        self.conv1 = GraphConv(embed_dim * 2, 128)\n",
        "        self.pool1 = TopKPooling(128, ratio=0.9)\n",
        "        self.conv2 = GraphConv(128, 128)\n",
        "        self.pool2 = TopKPooling(128, ratio=0.9)\n",
        "        self.conv3 = GraphConv(128, 128)\n",
        "        self.pool3 = TopKPooling(128, ratio=0.9)\n",
        "        self.item_embedding = torch.nn.Embedding(num_embeddings=num_items, embedding_dim=embed_dim)\n",
        "        self.category_embedding = torch.nn.Embedding(num_embeddings=num_categories, embedding_dim=embed_dim)        \n",
        "        self.lin1 = torch.nn.Linear(256, 256)\n",
        "        self.lin2 = torch.nn.Linear(256, 128)\n",
        "        self.bn1 = torch.nn.BatchNorm1d(128)\n",
        "        self.bn2 = torch.nn.BatchNorm1d(64)\n",
        "        self.act1 = torch.nn.ReLU()\n",
        "        self.act2 = torch.nn.ReLU()        \n",
        "  \n",
        "    # Forward step of a model\n",
        "    def forward(self, data):\n",
        "        x, edge_index, batch = data.x, data.edge_index, data.batch\n",
        "        \n",
        "        item_id = x[:,:,0]\n",
        "        category = x[:,:,1]\n",
        "        \n",
        "\n",
        "        emb_item = self.item_embedding(item_id).squeeze(1)\n",
        "        emb_category = self.category_embedding(category).squeeze(1)\n",
        "        \n",
        "        x = torch.cat([emb_item, emb_category], dim=1)  \n",
        "        # print(x.shape)\n",
        "        x = F.relu(self.conv1(x, edge_index))\n",
        "        # print(x.shape)\n",
        "        r = self.pool1(x, edge_index, None, batch)\n",
        "        # print(r)\n",
        "        x, edge_index, _, batch, _, _ = self.pool1(x, edge_index, None, batch)\n",
        "        x1 = torch.cat([gmp(x, batch), gap(x, batch)], dim=1)\n",
        "\n",
        "        x = F.relu(self.conv2(x, edge_index))\n",
        "     \n",
        "        x, edge_index, _, batch, _, _ = self.pool2(x, edge_index, None, batch)\n",
        "        x2 = torch.cat([gmp(x, batch), gap(x, batch)], dim=1)\n",
        "\n",
        "        x = F.relu(self.conv3(x, edge_index))\n",
        "\n",
        "        x, edge_index, _, batch, _, _ = self.pool3(x, edge_index, None, batch)\n",
        "        x3 = torch.cat([gmp(x, batch), gap(x, batch)], dim=1)\n",
        "\n",
        "        x = x1 + x2 + x3\n",
        "\n",
        "        x = self.lin1(x)\n",
        "        x = self.act1(x)\n",
        "        x = self.lin2(x)\n",
        "        x = F.dropout(x, p=0.5, training=self.training)\n",
        "        x = self.act2(x)      \n",
        "        \n",
        "        outputs = []\n",
        "        for i in range(x.size(0)):\n",
        "            output = torch.matmul(emb_item[data.batch == i], x[i,:])\n",
        "\n",
        "            outputs.append(output)\n",
        "              \n",
        "        x = torch.cat(outputs, dim=0)\n",
        "        x = torch.sigmoid(x)\n",
        "        \n",
        "        return x"
      ]
    },
    {
      "cell_type": "markdown",
      "source": [
        "### Обучение нейронной сверточной сети"
      ],
      "metadata": {
        "id": "dXOBVplS3yoV"
      }
    },
    {
      "cell_type": "code",
      "source": [
        "# Enable CUDA computing\n",
        "device = torch.device('cuda')\n",
        "model = Net().to(device)\n",
        "# Choose optimizer and criterion for learning\n",
        "optimizer = torch.optim.Adam(model.parameters(), lr=0.001)\n",
        "crit = torch.nn.BCELoss()"
      ],
      "metadata": {
        "id": "5GfsSuzeBleY"
      },
      "execution_count": 19,
      "outputs": []
    },
    {
      "cell_type": "code",
      "execution_count": 20,
      "metadata": {
        "id": "z-YOFBxAvpk9"
      },
      "outputs": [],
      "source": [
        "# Train function\n",
        "def train():\n",
        "    model.train()\n",
        "\n",
        "    loss_all = 0\n",
        "    for data in train_loader:\n",
        "        data = data.to(device)\n",
        "        optimizer.zero_grad()\n",
        "        output = model(data)\n",
        "\n",
        "        label = data.y.to(device)\n",
        "        loss = crit(output, label)\n",
        "        loss.backward()\n",
        "        loss_all += data.num_graphs * loss.item()\n",
        "        optimizer.step()\n",
        "    return loss_all / len(train_dataset)"
      ]
    },
    {
      "cell_type": "code",
      "execution_count": 21,
      "metadata": {
        "id": "bjl2k0ixvpk-"
      },
      "outputs": [],
      "source": [
        "# Evaluate result of a model\n",
        "from sklearn.metrics import roc_auc_score\n",
        "def evaluate(loader):\n",
        "    model.eval()\n",
        "\n",
        "    predictions = []\n",
        "    labels = []\n",
        "\n",
        "    with torch.no_grad():\n",
        "        for data in loader:\n",
        "\n",
        "            data = data.to(device)\n",
        "            pred = model(data).detach().cpu().numpy()\n",
        "\n",
        "            label = data.y.detach().cpu().numpy()\n",
        "            predictions.append(pred)\n",
        "            labels.append(label)\n",
        "\n",
        "    predictions = np.hstack(predictions)\n",
        "    labels = np.hstack(labels)\n",
        "    \n",
        "    return roc_auc_score(labels, predictions)"
      ]
    },
    {
      "cell_type": "code",
      "execution_count": 22,
      "metadata": {
        "id": "jQVIFRgXvpk-",
        "scrolled": true,
        "colab": {
          "base_uri": "https://localhost:8080/"
        },
        "outputId": "62821a54-b454-41ca-dd1d-d27fb29acf70"
      },
      "outputs": [
        {
          "output_type": "stream",
          "name": "stderr",
          "text": [
            "  2%|▎         | 1/40 [00:51<33:31, 51.57s/it]"
          ]
        },
        {
          "output_type": "stream",
          "name": "stdout",
          "text": [
            "Epoch: 000, Loss: 0.68526, Train Auc: 0.52242, Val Auc: 0.51418, Test Auc: 0.51782\n"
          ]
        },
        {
          "output_type": "stream",
          "name": "stderr",
          "text": [
            "\r  5%|▌         | 2/40 [01:39<31:08, 49.17s/it]"
          ]
        },
        {
          "output_type": "stream",
          "name": "stdout",
          "text": [
            "Epoch: 001, Loss: 0.49604, Train Auc: 0.56358, Val Auc: 0.53245, Test Auc: 0.54687\n"
          ]
        },
        {
          "output_type": "stream",
          "name": "stderr",
          "text": [
            "\r  8%|▊         | 3/40 [02:26<29:51, 48.42s/it]"
          ]
        },
        {
          "output_type": "stream",
          "name": "stdout",
          "text": [
            "Epoch: 002, Loss: 0.39674, Train Auc: 0.60427, Val Auc: 0.55741, Test Auc: 0.57279\n"
          ]
        },
        {
          "output_type": "stream",
          "name": "stderr",
          "text": [
            "\r 10%|█         | 4/40 [03:14<28:57, 48.26s/it]"
          ]
        },
        {
          "output_type": "stream",
          "name": "stdout",
          "text": [
            "Epoch: 003, Loss: 0.36389, Train Auc: 0.63540, Val Auc: 0.57152, Test Auc: 0.58783\n"
          ]
        },
        {
          "output_type": "stream",
          "name": "stderr",
          "text": [
            "\r 12%|█▎        | 5/40 [04:01<27:50, 47.73s/it]"
          ]
        },
        {
          "output_type": "stream",
          "name": "stdout",
          "text": [
            "Epoch: 004, Loss: 0.33559, Train Auc: 0.66195, Val Auc: 0.58306, Test Auc: 0.60075\n"
          ]
        },
        {
          "output_type": "stream",
          "name": "stderr",
          "text": [
            "\r 15%|█▌        | 6/40 [04:48<26:51, 47.38s/it]"
          ]
        },
        {
          "output_type": "stream",
          "name": "stdout",
          "text": [
            "Epoch: 005, Loss: 0.31933, Train Auc: 0.68950, Val Auc: 0.59211, Test Auc: 0.60286\n"
          ]
        },
        {
          "output_type": "stream",
          "name": "stderr",
          "text": [
            "\r 18%|█▊        | 7/40 [05:34<25:58, 47.22s/it]"
          ]
        },
        {
          "output_type": "stream",
          "name": "stdout",
          "text": [
            "Epoch: 006, Loss: 0.30288, Train Auc: 0.71650, Val Auc: 0.59967, Test Auc: 0.61224\n"
          ]
        },
        {
          "output_type": "stream",
          "name": "stderr",
          "text": [
            "\r 20%|██        | 8/40 [06:21<25:07, 47.10s/it]"
          ]
        },
        {
          "output_type": "stream",
          "name": "stdout",
          "text": [
            "Epoch: 007, Loss: 0.29189, Train Auc: 0.74080, Val Auc: 0.61067, Test Auc: 0.62502\n"
          ]
        },
        {
          "output_type": "stream",
          "name": "stderr",
          "text": [
            "\r 22%|██▎       | 9/40 [07:08<24:16, 46.97s/it]"
          ]
        },
        {
          "output_type": "stream",
          "name": "stdout",
          "text": [
            "Epoch: 008, Loss: 0.28172, Train Auc: 0.76488, Val Auc: 0.61543, Test Auc: 0.62618\n"
          ]
        },
        {
          "output_type": "stream",
          "name": "stderr",
          "text": [
            "\r 25%|██▌       | 10/40 [07:55<23:26, 46.87s/it]"
          ]
        },
        {
          "output_type": "stream",
          "name": "stdout",
          "text": [
            "Epoch: 009, Loss: 0.27004, Train Auc: 0.79218, Val Auc: 0.61755, Test Auc: 0.63599\n"
          ]
        },
        {
          "output_type": "stream",
          "name": "stderr",
          "text": [
            "\r 28%|██▊       | 11/40 [08:41<22:36, 46.78s/it]"
          ]
        },
        {
          "output_type": "stream",
          "name": "stdout",
          "text": [
            "Epoch: 010, Loss: 0.25793, Train Auc: 0.82362, Val Auc: 0.62309, Test Auc: 0.63920\n"
          ]
        },
        {
          "output_type": "stream",
          "name": "stderr",
          "text": [
            "\r 30%|███       | 12/40 [09:28<21:50, 46.81s/it]"
          ]
        },
        {
          "output_type": "stream",
          "name": "stdout",
          "text": [
            "Epoch: 011, Loss: 0.25349, Train Auc: 0.85337, Val Auc: 0.63130, Test Auc: 0.65032\n"
          ]
        },
        {
          "output_type": "stream",
          "name": "stderr",
          "text": [
            "\r 32%|███▎      | 13/40 [10:14<21:00, 46.68s/it]"
          ]
        },
        {
          "output_type": "stream",
          "name": "stdout",
          "text": [
            "Epoch: 012, Loss: 0.23775, Train Auc: 0.87178, Val Auc: 0.63167, Test Auc: 0.64906\n"
          ]
        },
        {
          "output_type": "stream",
          "name": "stderr",
          "text": [
            "\r 35%|███▌      | 14/40 [11:01<20:14, 46.72s/it]"
          ]
        },
        {
          "output_type": "stream",
          "name": "stdout",
          "text": [
            "Epoch: 013, Loss: 0.22150, Train Auc: 0.88869, Val Auc: 0.62491, Test Auc: 0.64552\n"
          ]
        },
        {
          "output_type": "stream",
          "name": "stderr",
          "text": [
            "\r 38%|███▊      | 15/40 [11:48<19:27, 46.68s/it]"
          ]
        },
        {
          "output_type": "stream",
          "name": "stdout",
          "text": [
            "Epoch: 014, Loss: 0.21303, Train Auc: 0.91018, Val Auc: 0.63247, Test Auc: 0.65416\n"
          ]
        },
        {
          "output_type": "stream",
          "name": "stderr",
          "text": [
            "\r 40%|████      | 16/40 [12:35<18:42, 46.77s/it]"
          ]
        },
        {
          "output_type": "stream",
          "name": "stdout",
          "text": [
            "Epoch: 015, Loss: 0.20253, Train Auc: 0.91872, Val Auc: 0.63334, Test Auc: 0.65132\n"
          ]
        },
        {
          "output_type": "stream",
          "name": "stderr",
          "text": [
            "\r 42%|████▎     | 17/40 [13:22<17:56, 46.80s/it]"
          ]
        },
        {
          "output_type": "stream",
          "name": "stdout",
          "text": [
            "Epoch: 016, Loss: 0.19527, Train Auc: 0.93961, Val Auc: 0.63269, Test Auc: 0.65646\n"
          ]
        },
        {
          "output_type": "stream",
          "name": "stderr",
          "text": [
            "\r 45%|████▌     | 18/40 [14:08<17:07, 46.70s/it]"
          ]
        },
        {
          "output_type": "stream",
          "name": "stdout",
          "text": [
            "Epoch: 017, Loss: 0.18689, Train Auc: 0.94233, Val Auc: 0.62687, Test Auc: 0.65340\n"
          ]
        },
        {
          "output_type": "stream",
          "name": "stderr",
          "text": [
            "\r 48%|████▊     | 19/40 [14:55<16:22, 46.81s/it]"
          ]
        },
        {
          "output_type": "stream",
          "name": "stdout",
          "text": [
            "Epoch: 018, Loss: 0.18504, Train Auc: 0.94908, Val Auc: 0.63260, Test Auc: 0.65695\n"
          ]
        },
        {
          "output_type": "stream",
          "name": "stderr",
          "text": [
            "\r 50%|█████     | 20/40 [15:42<15:35, 46.79s/it]"
          ]
        },
        {
          "output_type": "stream",
          "name": "stdout",
          "text": [
            "Epoch: 019, Loss: 0.18138, Train Auc: 0.95163, Val Auc: 0.63373, Test Auc: 0.65501\n"
          ]
        },
        {
          "output_type": "stream",
          "name": "stderr",
          "text": [
            "\r 52%|█████▎    | 21/40 [16:29<14:49, 46.81s/it]"
          ]
        },
        {
          "output_type": "stream",
          "name": "stdout",
          "text": [
            "Epoch: 020, Loss: 0.16871, Train Auc: 0.95716, Val Auc: 0.62710, Test Auc: 0.65108\n"
          ]
        },
        {
          "output_type": "stream",
          "name": "stderr",
          "text": [
            "\r 55%|█████▌    | 22/40 [17:16<14:01, 46.77s/it]"
          ]
        },
        {
          "output_type": "stream",
          "name": "stdout",
          "text": [
            "Epoch: 021, Loss: 0.16117, Train Auc: 0.95881, Val Auc: 0.63046, Test Auc: 0.64433\n"
          ]
        },
        {
          "output_type": "stream",
          "name": "stderr",
          "text": [
            "\r 57%|█████▊    | 23/40 [18:02<13:14, 46.71s/it]"
          ]
        },
        {
          "output_type": "stream",
          "name": "stdout",
          "text": [
            "Epoch: 022, Loss: 0.15905, Train Auc: 0.95810, Val Auc: 0.62724, Test Auc: 0.64582\n"
          ]
        },
        {
          "output_type": "stream",
          "name": "stderr",
          "text": [
            "\r 60%|██████    | 24/40 [18:49<12:27, 46.70s/it]"
          ]
        },
        {
          "output_type": "stream",
          "name": "stdout",
          "text": [
            "Epoch: 023, Loss: 0.15087, Train Auc: 0.96528, Val Auc: 0.62467, Test Auc: 0.63744\n"
          ]
        },
        {
          "output_type": "stream",
          "name": "stderr",
          "text": [
            "\r 62%|██████▎   | 25/40 [19:36<11:40, 46.73s/it]"
          ]
        },
        {
          "output_type": "stream",
          "name": "stdout",
          "text": [
            "Epoch: 024, Loss: 0.14731, Train Auc: 0.96892, Val Auc: 0.62983, Test Auc: 0.64879\n"
          ]
        },
        {
          "output_type": "stream",
          "name": "stderr",
          "text": [
            "\r 65%|██████▌   | 26/40 [20:22<10:53, 46.67s/it]"
          ]
        },
        {
          "output_type": "stream",
          "name": "stdout",
          "text": [
            "Epoch: 025, Loss: 0.14913, Train Auc: 0.95907, Val Auc: 0.61891, Test Auc: 0.63420\n"
          ]
        },
        {
          "output_type": "stream",
          "name": "stderr",
          "text": [
            "\r 68%|██████▊   | 27/40 [21:09<10:07, 46.72s/it]"
          ]
        },
        {
          "output_type": "stream",
          "name": "stdout",
          "text": [
            "Epoch: 026, Loss: 0.15386, Train Auc: 0.95586, Val Auc: 0.61314, Test Auc: 0.63885\n"
          ]
        },
        {
          "output_type": "stream",
          "name": "stderr",
          "text": [
            "\r 70%|███████   | 28/40 [21:56<09:20, 46.74s/it]"
          ]
        },
        {
          "output_type": "stream",
          "name": "stdout",
          "text": [
            "Epoch: 027, Loss: 0.15167, Train Auc: 0.96852, Val Auc: 0.62590, Test Auc: 0.64684\n"
          ]
        },
        {
          "output_type": "stream",
          "name": "stderr",
          "text": [
            "\r 72%|███████▎  | 29/40 [22:43<08:35, 46.87s/it]"
          ]
        },
        {
          "output_type": "stream",
          "name": "stdout",
          "text": [
            "Epoch: 028, Loss: 0.13762, Train Auc: 0.97063, Val Auc: 0.62457, Test Auc: 0.65388\n"
          ]
        },
        {
          "output_type": "stream",
          "name": "stderr",
          "text": [
            "\r 75%|███████▌  | 30/40 [23:30<07:47, 46.80s/it]"
          ]
        },
        {
          "output_type": "stream",
          "name": "stdout",
          "text": [
            "Epoch: 029, Loss: 0.13520, Train Auc: 0.97581, Val Auc: 0.62728, Test Auc: 0.65394\n"
          ]
        },
        {
          "output_type": "stream",
          "name": "stderr",
          "text": [
            "\r 78%|███████▊  | 31/40 [24:16<07:00, 46.70s/it]"
          ]
        },
        {
          "output_type": "stream",
          "name": "stdout",
          "text": [
            "Epoch: 030, Loss: 0.12630, Train Auc: 0.97847, Val Auc: 0.62540, Test Auc: 0.64574\n"
          ]
        },
        {
          "output_type": "stream",
          "name": "stderr",
          "text": [
            "\r 80%|████████  | 32/40 [25:02<06:12, 46.59s/it]"
          ]
        },
        {
          "output_type": "stream",
          "name": "stdout",
          "text": [
            "Epoch: 031, Loss: 0.12172, Train Auc: 0.97827, Val Auc: 0.62604, Test Auc: 0.64740\n"
          ]
        },
        {
          "output_type": "stream",
          "name": "stderr",
          "text": [
            "\r 82%|████████▎ | 33/40 [25:49<05:26, 46.66s/it]"
          ]
        },
        {
          "output_type": "stream",
          "name": "stdout",
          "text": [
            "Epoch: 032, Loss: 0.12220, Train Auc: 0.98007, Val Auc: 0.62585, Test Auc: 0.64859\n"
          ]
        },
        {
          "output_type": "stream",
          "name": "stderr",
          "text": [
            "\r 85%|████████▌ | 34/40 [26:36<04:39, 46.63s/it]"
          ]
        },
        {
          "output_type": "stream",
          "name": "stdout",
          "text": [
            "Epoch: 033, Loss: 0.11961, Train Auc: 0.97998, Val Auc: 0.62441, Test Auc: 0.64819\n"
          ]
        },
        {
          "output_type": "stream",
          "name": "stderr",
          "text": [
            "\r 88%|████████▊ | 35/40 [27:22<03:53, 46.63s/it]"
          ]
        },
        {
          "output_type": "stream",
          "name": "stdout",
          "text": [
            "Epoch: 034, Loss: 0.12095, Train Auc: 0.97789, Val Auc: 0.63073, Test Auc: 0.65341\n"
          ]
        },
        {
          "output_type": "stream",
          "name": "stderr",
          "text": [
            "\r 90%|█████████ | 36/40 [28:09<03:06, 46.66s/it]"
          ]
        },
        {
          "output_type": "stream",
          "name": "stdout",
          "text": [
            "Epoch: 035, Loss: 0.11968, Train Auc: 0.97983, Val Auc: 0.62715, Test Auc: 0.64474\n"
          ]
        },
        {
          "output_type": "stream",
          "name": "stderr",
          "text": [
            "\r 92%|█████████▎| 37/40 [28:56<02:20, 46.77s/it]"
          ]
        },
        {
          "output_type": "stream",
          "name": "stdout",
          "text": [
            "Epoch: 036, Loss: 0.11896, Train Auc: 0.97909, Val Auc: 0.61992, Test Auc: 0.63688\n"
          ]
        },
        {
          "output_type": "stream",
          "name": "stderr",
          "text": [
            "\r 95%|█████████▌| 38/40 [29:43<01:33, 46.77s/it]"
          ]
        },
        {
          "output_type": "stream",
          "name": "stdout",
          "text": [
            "Epoch: 037, Loss: 0.11892, Train Auc: 0.97209, Val Auc: 0.61338, Test Auc: 0.63970\n"
          ]
        },
        {
          "output_type": "stream",
          "name": "stderr",
          "text": [
            "\r 98%|█████████▊| 39/40 [30:29<00:46, 46.71s/it]"
          ]
        },
        {
          "output_type": "stream",
          "name": "stdout",
          "text": [
            "Epoch: 038, Loss: 0.12062, Train Auc: 0.97737, Val Auc: 0.61919, Test Auc: 0.63694\n"
          ]
        },
        {
          "output_type": "stream",
          "name": "stderr",
          "text": [
            "100%|██████████| 40/40 [31:16<00:00, 46.91s/it]"
          ]
        },
        {
          "output_type": "stream",
          "name": "stdout",
          "text": [
            "Epoch: 039, Loss: 0.11694, Train Auc: 0.98214, Val Auc: 0.62451, Test Auc: 0.64767\n"
          ]
        },
        {
          "output_type": "stream",
          "name": "stderr",
          "text": [
            "\n"
          ]
        }
      ],
      "source": [
        "# Train a model\n",
        "NUM_EPOCHS =   40#@param { type: \"integer\" }\n",
        "for epoch in tqdm(range(NUM_EPOCHS)):\n",
        "    loss = train()\n",
        "    train_acc = evaluate(train_loader)\n",
        "    val_acc = evaluate(val_loader)    \n",
        "    test_acc = evaluate(test_loader)\n",
        "    print('Epoch: {:03d}, Loss: {:.5f}, Train Auc: {:.5f}, Val Auc: {:.5f}, Test Auc: {:.5f}'.\n",
        "          format(epoch, loss, train_acc, val_acc, test_acc))"
      ]
    },
    {
      "cell_type": "markdown",
      "metadata": {
        "id": "a6QGpZqWHnGL"
      },
      "source": [
        "### Проверка результата с помощью примеров"
      ]
    },
    {
      "cell_type": "code",
      "execution_count": 25,
      "metadata": {
        "id": "2U1cUmnFvpk-",
        "colab": {
          "base_uri": "https://localhost:8080/"
        },
        "outputId": "18cc9512-3f65-4dc8-af46-7d52582d6a96"
      },
      "outputs": [
        {
          "output_type": "stream",
          "name": "stderr",
          "text": [
            "/usr/local/lib/python3.7/dist-packages/torch_geometric/deprecation.py:12: UserWarning: 'data.DataLoader' is deprecated, use 'loader.DataLoader' instead\n",
            "  warnings.warn(out)\n"
          ]
        },
        {
          "output_type": "execute_result",
          "data": {
            "text/plain": [
              "0.8620689655172413"
            ]
          },
          "metadata": {},
          "execution_count": 25
        }
      ],
      "source": [
        "# Подход №1 - из датасета\n",
        "evaluate(DataLoader(test_dataset[40:60], batch_size=10))"
      ]
    },
    {
      "cell_type": "code",
      "source": [
        "# Подход №2 - через создание сессии покупок\n",
        "test_df = pd.DataFrame([\n",
        "      [-1, 15219, 0],\n",
        "      [-1, 15431, 0],\n",
        "      [-1, 14371, 0],\n",
        "      [-1, 15745, 0],\n",
        "      [-2, 14594, 0],\n",
        "      [-2, 16972, 11],\n",
        "      [-2, 16943, 0],\n",
        "      [-3, 17284, 0]\n",
        "], columns=['session_id', 'item_id', 'category'])\n",
        "\n",
        "test_data = transform_dataset(test_df, buy_item_dict)\n",
        "test_data = DataLoader(test_data, batch_size=1)\n",
        "\n",
        "with torch.no_grad():\n",
        "    model.eval()\n",
        "    for data in test_data:\n",
        "        data = data.to(device)\n",
        "        pred = model(data).detach().cpu().numpy()\n",
        "\n",
        "        print(data, pred)"
      ],
      "metadata": {
        "id": "83YBm1rRg3ot",
        "colab": {
          "base_uri": "https://localhost:8080/"
        },
        "outputId": "ed7949c2-2e18-4142-aa36-4776e992bdbf"
      },
      "execution_count": 26,
      "outputs": [
        {
          "output_type": "stream",
          "name": "stderr",
          "text": [
            "100%|██████████| 3/3 [00:00<00:00, 245.73it/s]"
          ]
        },
        {
          "output_type": "stream",
          "name": "stdout",
          "text": [
            "DataBatch(x=[1, 1, 2], edge_index=[2, 0], y=[1], batch=[1], ptr=[2]) [1.2773065e-10]\n",
            "DataBatch(x=[3, 1, 2], edge_index=[2, 2], y=[3], batch=[3], ptr=[2]) [1.6608219e-08 2.0798852e-06 2.7058101e-07]\n",
            "DataBatch(x=[4, 1, 2], edge_index=[2, 3], y=[4], batch=[4], ptr=[2]) [3.0303802e-08 3.3233114e-08 1.4895406e-04 4.7969943e-04]\n"
          ]
        },
        {
          "output_type": "stream",
          "name": "stderr",
          "text": [
            "\n",
            "/usr/local/lib/python3.7/dist-packages/torch_geometric/deprecation.py:12: UserWarning: 'data.DataLoader' is deprecated, use 'loader.DataLoader' instead\n",
            "  warnings.warn(out)\n"
          ]
        }
      ]
    }
  ],
  "metadata": {
    "accelerator": "GPU",
    "colab": {
      "collapsed_sections": [],
      "name": "ЛР6_Сафин_Р_Р_ИУ5_21М (3).ipynb",
      "provenance": []
    },
    "kernelspec": {
      "display_name": "Python 3",
      "language": "python",
      "name": "python3"
    },
    "language_info": {
      "codemirror_mode": {
        "name": "ipython",
        "version": 3
      },
      "file_extension": ".py",
      "mimetype": "text/x-python",
      "name": "python",
      "nbconvert_exporter": "python",
      "pygments_lexer": "ipython3",
      "version": "3.6.6"
    }
  },
  "nbformat": 4,
  "nbformat_minor": 0
}